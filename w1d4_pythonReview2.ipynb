{
 "cells": [
  {
   "cell_type": "markdown",
   "metadata": {
    "id": "wsl6yy9yjGwV"
   },
   "source": [
    "# Week 1, Day 4\n",
    "\n",
    "**In this class we will learn about:**\n",
    "- Tuples\n",
    "- Lists\n",
    "- Dictionaries"
   ]
  },
  {
   "cell_type": "markdown",
   "metadata": {
    "id": "QhIFQHrPqXUP"
   },
   "source": [
    "## Tuples"
   ]
  },
  {
   "cell_type": "markdown",
   "metadata": {
    "id": "XEkTJhaFqcTd"
   },
   "source": [
    "A Tuple is a collection which is ordered and unchangeable. Tuples are written with round brackets. The values can be repeated, but their number is always finite.\n"
   ]
  },
  {
   "cell_type": "code",
   "execution_count": 3,
   "metadata": {
    "colab": {
     "base_uri": "https://localhost:8080/"
    },
    "executionInfo": {
     "elapsed": 192,
     "status": "ok",
     "timestamp": 1686238804649,
     "user": {
      "displayName": "Anas Buhayh",
      "userId": "13931278578707862625"
     },
     "user_tz": 360
    },
    "id": "-R2Rve2hjDIf",
    "outputId": "a5f11bd2-e145-4829-d020-7f3b871280c1"
   },
   "outputs": [
    {
     "data": {
      "text/plain": [
       "tuple"
      ]
     },
     "execution_count": 3,
     "metadata": {},
     "output_type": "execute_result"
    }
   ],
   "source": [
    "# Is this a tuple?\n",
    "\n",
    "# type(t1)\n",
    "t1 = (1, 2, 3)\n",
    "t1\n",
    "type(t1)"
   ]
  },
  {
   "cell_type": "code",
   "execution_count": 6,
   "metadata": {
    "colab": {
     "base_uri": "https://localhost:8080/"
    },
    "executionInfo": {
     "elapsed": 161,
     "status": "ok",
     "timestamp": 1686238841118,
     "user": {
      "displayName": "Anas Buhayh",
      "userId": "13931278578707862625"
     },
     "user_tz": 360
    },
    "id": "eehQxcNYqicB",
    "outputId": "caf908a8-0ed5-4751-bd4e-b9ad6129686e"
   },
   "outputs": [
    {
     "data": {
      "text/plain": [
       "tuple"
      ]
     },
     "execution_count": 6,
     "metadata": {},
     "output_type": "execute_result"
    }
   ],
   "source": [
    "# Is this a tuple\n",
    "\n",
    "# type(t2)\n",
    "t2 = (\"red\", 1, False)\n",
    "t2\n",
    "type(t2)"
   ]
  },
  {
   "cell_type": "code",
   "execution_count": 7,
   "metadata": {
    "colab": {
     "base_uri": "https://localhost:8080/"
    },
    "executionInfo": {
     "elapsed": 2,
     "status": "ok",
     "timestamp": 1686238875105,
     "user": {
      "displayName": "Anas Buhayh",
      "userId": "13931278578707862625"
     },
     "user_tz": 360
    },
    "id": "JLzOjv3uqsdg",
    "outputId": "6985295d-693d-416b-afd8-50c500117682"
   },
   "outputs": [
    {
     "data": {
      "text/plain": [
       "1"
      ]
     },
     "execution_count": 7,
     "metadata": {},
     "output_type": "execute_result"
    }
   ],
   "source": [
    "# make a longer tuple\n",
    "t3 = (1,2,3,4)\n",
    "\n",
    "# print the first item in that tuple \n",
    "t3[0]"
   ]
  },
  {
   "cell_type": "code",
   "execution_count": 8,
   "metadata": {
    "colab": {
     "base_uri": "https://localhost:8080/"
    },
    "executionInfo": {
     "elapsed": 195,
     "status": "ok",
     "timestamp": 1686238903480,
     "user": {
      "displayName": "Anas Buhayh",
      "userId": "13931278578707862625"
     },
     "user_tz": 360
    },
    "id": "9BA2qSF4q0yg",
    "outputId": "181a55b5-143a-425a-abe5-255f7b448886"
   },
   "outputs": [
    {
     "name": "stdout",
     "output_type": "stream",
     "text": [
      "1 2 3\n"
     ]
    }
   ],
   "source": [
    "#print a the first second and third items in the tuple\n",
    "print(t3[0], t3[1], t3[2])"
   ]
  },
  {
   "cell_type": "code",
   "execution_count": 14,
   "metadata": {
    "colab": {
     "base_uri": "https://localhost:8080/",
     "height": 165
    },
    "executionInfo": {
     "elapsed": 115,
     "status": "error",
     "timestamp": 1686238922736,
     "user": {
      "displayName": "Anas Buhayh",
      "userId": "13931278578707862625"
     },
     "user_tz": 360
    },
    "id": "y0dUtF8Pq2Sv",
    "outputId": "037daa56-fb19-4f04-98c4-070eea269227"
   },
   "outputs": [
    {
     "name": "stdout",
     "output_type": "stream",
     "text": [
      "[1, 2, 3, 4]\n",
      "[1, 'f', 3, 4]\n"
     ]
    }
   ],
   "source": [
    "#re-assign the second item to a letter\n",
    "\n",
    "# you can't change tuples \n",
    "# if you wanted to change a value, you would have to make the tuple into a list\n",
    "t3_list = list(t3)\n",
    "print(t3_list)\n",
    "t3_list[1] = 'f'\n",
    "print(t3_list)"
   ]
  },
  {
   "cell_type": "code",
   "execution_count": 16,
   "metadata": {
    "id": "MpOb84TprlvA"
   },
   "outputs": [
    {
     "name": "stdout",
     "output_type": "stream",
     "text": [
      "('hi', 'hello', 'bye', 'see you later')\n"
     ]
    }
   ],
   "source": [
    "# make a tuple with strings\n",
    "string_tuple = (\"hi\", \"hello\", \"bye\", \"see you later\")\n",
    "print(string_tuple)"
   ]
  },
  {
   "cell_type": "code",
   "execution_count": null,
   "metadata": {
    "colab": {
     "base_uri": "https://localhost:8080/"
    },
    "executionInfo": {
     "elapsed": 120,
     "status": "ok",
     "timestamp": 1686239091049,
     "user": {
      "displayName": "Anas Buhayh",
      "userId": "13931278578707862625"
     },
     "user_tz": 360
    },
    "id": "FhZu6RcTrAZ4",
    "outputId": "81fc1eaa-f878-49e5-b520-7a619b811ed8"
   },
   "outputs": [],
   "source": []
  },
  {
   "cell_type": "markdown",
   "metadata": {
    "id": "a2Xf568srq45"
   },
   "source": [
    "### Excercise 1: \n",
    "1.   create a tuple with your favorite hobbies, tv shows, etc. ordered by your highest favorit to the lowest\n",
    "2.   access the last item in the tuple and print it out\n",
    "3. print out the last item in the tuple in the following formating --> \" My least favorite hobby is -----\"\n",
    "\n"
   ]
  },
  {
   "cell_type": "code",
   "execution_count": 5,
   "metadata": {
    "id": "JLit-a4lrqXE"
   },
   "outputs": [
    {
     "name": "stdout",
     "output_type": "stream",
     "text": [
      "baking\n",
      "My least favorite hobby is baking\n"
     ]
    }
   ],
   "source": [
    "hobbies = (\"hanging with friends\", \"traveling\", \"skiiing\", \"painting\", \"baking\")\n",
    "print(hobbies[-1]) # -1 index access the last value\n",
    "print(\"My least favorite hobby is \" + hobbies[-1])"
   ]
  },
  {
   "cell_type": "code",
   "execution_count": 6,
   "metadata": {},
   "outputs": [
    {
     "name": "stdout",
     "output_type": "stream",
     "text": [
      "Hello, baking\n"
     ]
    }
   ],
   "source": [
    "#hobbies_fav = \n",
    "# tuples are round bracket\n",
    "#print out the last item in the tuple in the following formating --> \" My least favorite hobby is -----\"\n",
    "print(\"Hello,\",hobbies[-1]) #other way to print things \n"
   ]
  },
  {
   "cell_type": "markdown",
   "metadata": {
    "id": "BoNSVqC6rWbH"
   },
   "source": [
    "## Lists"
   ]
  },
  {
   "cell_type": "markdown",
   "metadata": {},
   "source": [
    "Lists are used to store multiple items in a single variable. Lists are one of 4 built-in data types in Python used to store collections of data. They are created using square brackets"
   ]
  },
  {
   "cell_type": "code",
   "execution_count": 19,
   "metadata": {
    "id": "kzDOQGkatCJE"
   },
   "outputs": [],
   "source": [
    "#make some lists\n",
    "l1 = [1,2,3,4,5]\n",
    "l2 = [\"hi\", \"blue\", \"bye\"]\n",
    "l3 = [\"coffee\", 3, \"matcha\", 4]"
   ]
  },
  {
   "cell_type": "code",
   "execution_count": 20,
   "metadata": {
    "colab": {
     "base_uri": "https://localhost:8080/"
    },
    "executionInfo": {
     "elapsed": 123,
     "status": "ok",
     "timestamp": 1686239875651,
     "user": {
      "displayName": "Anas Buhayh",
      "userId": "13931278578707862625"
     },
     "user_tz": 360
    },
    "id": "4GC9z98iujKd",
    "outputId": "60849f8a-fd5a-4949-b2fd-3ee9fb7cae6c"
   },
   "outputs": [
    {
     "name": "stdout",
     "output_type": "stream",
     "text": [
      "item found\n"
     ]
    }
   ],
   "source": [
    "# Check if item in a list\n",
    "if \"hi\" in l2:\n",
    "    print(\"item found\")"
   ]
  },
  {
   "cell_type": "markdown",
   "metadata": {
    "id": "Sz_XBFMruuyY"
   },
   "source": [
    "### List operatoins"
   ]
  },
  {
   "cell_type": "code",
   "execution_count": 22,
   "metadata": {
    "id": "Jo_J-VvhuvtF"
   },
   "outputs": [],
   "source": [
    "# make some numerical lists\n",
    "numbers = [0,1,2,2]"
   ]
  },
  {
   "cell_type": "code",
   "execution_count": 24,
   "metadata": {
    "colab": {
     "base_uri": "https://localhost:8080/"
    },
    "executionInfo": {
     "elapsed": 4,
     "status": "ok",
     "timestamp": 1686240003725,
     "user": {
      "displayName": "Anas Buhayh",
      "userId": "13931278578707862625"
     },
     "user_tz": 360
    },
    "id": "UvX68yCIu2ex",
    "outputId": "f9db16f0-03a9-4c16-b696-86846177c55f"
   },
   "outputs": [
    {
     "name": "stdout",
     "output_type": "stream",
     "text": [
      "[0, 1, 2, 2]\n",
      "[0, 1, 2, 2, 0, 1, 2, 2]\n"
     ]
    }
   ],
   "source": [
    "#Multiply a list by a number?\n",
    "print(numbers)\n",
    "numbers_2 = numbers*2\n",
    "print(numbers_2)# multiplyign a list by a number creats a new list with repeated elements "
   ]
  },
  {
   "cell_type": "code",
   "execution_count": 25,
   "metadata": {
    "colab": {
     "base_uri": "https://localhost:8080/"
    },
    "executionInfo": {
     "elapsed": 6,
     "status": "ok",
     "timestamp": 1686240004007,
     "user": {
      "displayName": "Anas Buhayh",
      "userId": "13931278578707862625"
     },
     "user_tz": 360
    },
    "id": "BDWrew6Yu5nq",
    "outputId": "4206f00f-2732-4cf8-afc5-ae14c324cd87"
   },
   "outputs": [
    {
     "name": "stdout",
     "output_type": "stream",
     "text": [
      "[0, 1, 2, 2]\n",
      "[0, 1, 2, 2, 0, 1, 2, 2]\n",
      "[0, 1, 2, 2, 0, 1, 2, 2, 0, 1, 2, 2]\n"
     ]
    }
   ],
   "source": [
    "#Add two lists together?\n",
    "print(numbers)\n",
    "print(numbers_2)\n",
    "print(numbers + numbers_2)\n",
    "# addign lists together concatenates them"
   ]
  },
  {
   "cell_type": "code",
   "execution_count": 32,
   "metadata": {
    "colab": {
     "base_uri": "https://localhost:8080/"
    },
    "executionInfo": {
     "elapsed": 2,
     "status": "ok",
     "timestamp": 1686240004122,
     "user": {
      "displayName": "Anas Buhayh",
      "userId": "13931278578707862625"
     },
     "user_tz": 360
    },
    "id": "xRQn-qEeu8Hi",
    "outputId": "f4f4688f-3f9b-4a17-8cc4-e6965aaa4398"
   },
   "outputs": [
    {
     "data": {
      "text/plain": [
       "125"
      ]
     },
     "execution_count": 32,
     "metadata": {},
     "output_type": "execute_result"
    }
   ],
   "source": [
    "# Mulitply the first item in a by 5\n",
    "numbers[0]\n",
    "numbers[0] * 5\n",
    "numbers[1] * 5 # multiplying an item by a number will multiply the value by that number \n"
   ]
  },
  {
   "cell_type": "code",
   "execution_count": 31,
   "metadata": {
    "id": "_qzq7J_jvAR4"
   },
   "outputs": [
    {
     "data": {
      "text/plain": [
       "25"
      ]
     },
     "execution_count": 31,
     "metadata": {},
     "output_type": "execute_result"
    }
   ],
   "source": [
    "#Reassign the first item in a to be that same number * 5\n",
    "numbers[1] *= 5\n",
    "numbers[1]\n"
   ]
  },
  {
   "cell_type": "code",
   "execution_count": 12,
   "metadata": {
    "colab": {
     "base_uri": "https://localhost:8080/"
    },
    "executionInfo": {
     "elapsed": 3,
     "status": "ok",
     "timestamp": 1686240004570,
     "user": {
      "displayName": "Anas Buhayh",
      "userId": "13931278578707862625"
     },
     "user_tz": 360
    },
    "id": "Q_c8PijyvAqY",
    "outputId": "89553f75-9cce-444b-d203-01025665c1af"
   },
   "outputs": [],
   "source": [
    "#check\n"
   ]
  },
  {
   "cell_type": "markdown",
   "metadata": {
    "id": "CyGWVOoNvNnE"
   },
   "source": [
    "### Lists slices"
   ]
  },
  {
   "cell_type": "code",
   "execution_count": 34,
   "metadata": {
    "id": "UesJ3jWNvFVD"
   },
   "outputs": [],
   "source": [
    "# create a list of strings\n",
    "words = [\"apple\", \"banana\", \"cherry\", \"peach\"]"
   ]
  },
  {
   "cell_type": "code",
   "execution_count": 35,
   "metadata": {
    "colab": {
     "base_uri": "https://localhost:8080/",
     "height": 35
    },
    "executionInfo": {
     "elapsed": 125,
     "status": "ok",
     "timestamp": 1686240048079,
     "user": {
      "displayName": "Anas Buhayh",
      "userId": "13931278578707862625"
     },
     "user_tz": 360
    },
    "id": "BwF9hvMCvSBV",
    "outputId": "2f39bf01-0602-46a5-dad2-aad33704db27"
   },
   "outputs": [
    {
     "name": "stdout",
     "output_type": "stream",
     "text": [
      "peach\n"
     ]
    }
   ],
   "source": [
    "#what is the last item of the list\n",
    "print(words[-1])"
   ]
  },
  {
   "cell_type": "code",
   "execution_count": 37,
   "metadata": {
    "colab": {
     "base_uri": "https://localhost:8080/"
    },
    "executionInfo": {
     "elapsed": 5,
     "status": "ok",
     "timestamp": 1686240056562,
     "user": {
      "displayName": "Anas Buhayh",
      "userId": "13931278578707862625"
     },
     "user_tz": 360
    },
    "id": "ljX0fZ4lvTJP",
    "outputId": "137e363f-d85e-441b-8eb2-840ef5973bd8"
   },
   "outputs": [
    {
     "name": "stdout",
     "output_type": "stream",
     "text": [
      "['banana', 'cherry', 'peach']\n"
     ]
    }
   ],
   "source": [
    "#get the items at \n",
    "# items at index 1-3\n",
    "print(words[1:4])"
   ]
  },
  {
   "cell_type": "code",
   "execution_count": null,
   "metadata": {
    "colab": {
     "base_uri": "https://localhost:8080/"
    },
    "executionInfo": {
     "elapsed": 357,
     "status": "ok",
     "timestamp": 1686240060727,
     "user": {
      "displayName": "Anas Buhayh",
      "userId": "13931278578707862625"
     },
     "user_tz": 360
    },
    "id": "MQTRCYZAvVMi",
    "outputId": "1edb2db7-0505-439f-ee4a-14317d5b181c"
   },
   "outputs": [],
   "source": []
  },
  {
   "cell_type": "markdown",
   "metadata": {
    "id": "iGYZSDy5vb9t"
   },
   "source": [
    "### List methods (append, extend, sort, pop, and remove)"
   ]
  },
  {
   "cell_type": "code",
   "execution_count": 39,
   "metadata": {
    "colab": {
     "base_uri": "https://localhost:8080/"
    },
    "executionInfo": {
     "elapsed": 568,
     "status": "ok",
     "timestamp": 1686240220359,
     "user": {
      "displayName": "Anas Buhayh",
      "userId": "13931278578707862625"
     },
     "user_tz": 360
    },
    "id": "vxAYp1-TvWLP",
    "outputId": "4dca3bf6-e116-4f80-91b3-bd1c14942508"
   },
   "outputs": [
    {
     "name": "stdout",
     "output_type": "stream",
     "text": [
      "['pink', 'purple', 'red', 'blue']\n"
     ]
    }
   ],
   "source": [
    "#have a list to work with\n",
    "colors = [\"pink\", \"purple\", \"red\", \"blue\"]\n",
    "print(colors)"
   ]
  },
  {
   "cell_type": "code",
   "execution_count": 41,
   "metadata": {
    "id": "W_5Obo_Qv9Fb"
   },
   "outputs": [
    {
     "name": "stdout",
     "output_type": "stream",
     "text": [
      "['pink', 'purple', 'red', 'blue', 'yellow', 'yellow']\n"
     ]
    }
   ],
   "source": [
    "#appending = adding item to end of list\n",
    "# snytax: list_name.append(thing_u_want_to_append)\n",
    "colors.append(\"yellow\")\n",
    "print(colors)"
   ]
  },
  {
   "cell_type": "code",
   "execution_count": 42,
   "metadata": {
    "id": "ZLBTnjTXwAKI"
   },
   "outputs": [
    {
     "name": "stdout",
     "output_type": "stream",
     "text": [
      "['square', 'circle', 'triangle']\n"
     ]
    }
   ],
   "source": [
    "#make another list \n",
    "shapes = [\"square\", \"circle\", \"triangle\"]\n",
    "print(shapes)"
   ]
  },
  {
   "cell_type": "code",
   "execution_count": 44,
   "metadata": {
    "id": "ycbL2SOqwH9a"
   },
   "outputs": [
    {
     "name": "stdout",
     "output_type": "stream",
     "text": [
      "['pink', 'purple', 'red', 'blue', 'yellow', 'yellow', 'square', 'circle', 'triangle', 'square', 'circle', 'triangle']\n"
     ]
    }
   ],
   "source": [
    "#extending = adding items from one list to another list\n",
    "# syntax: list_u_want_to_add_too.extend(list_you_are_adding)\n",
    "colors.extend(shapes)\n",
    "print(colors)\n"
   ]
  },
  {
   "cell_type": "code",
   "execution_count": 48,
   "metadata": {
    "id": "kUxj3kKIwLLJ"
   },
   "outputs": [
    {
     "name": "stdout",
     "output_type": "stream",
     "text": [
      "[2, 3, 5, 5, 2, 3]\n",
      "[2, 2, 3, 3, 5, 5]\n"
     ]
    }
   ],
   "source": [
    "#sorting = sort a list from small to big\n",
    "numbers = [2,3,5,5,2,3,]\n",
    "print(numbers)\n",
    "numbers.sort()\n",
    "print(numbers)"
   ]
  },
  {
   "cell_type": "code",
   "execution_count": 12,
   "metadata": {
    "colab": {
     "base_uri": "https://localhost:8080/"
    },
    "executionInfo": {
     "elapsed": 222,
     "status": "ok",
     "timestamp": 1686240377809,
     "user": {
      "displayName": "Anas Buhayh",
      "userId": "13931278578707862625"
     },
     "user_tz": 360
    },
    "id": "qK17HosuwiqH",
    "outputId": "270eaaf2-73ef-437a-d746-03909a660a27"
   },
   "outputs": [
    {
     "name": "stdout",
     "output_type": "stream",
     "text": [
      "['Grace', 'Jake', 'John', 'Mike']\n"
     ]
    }
   ],
   "source": [
    "unsorted_list = ['Jake', 'John', 'Mike', 'Grace']\n",
    "sorted_list=unsorted_list.sort()\n",
    "print(unsorted_list)"
   ]
  },
  {
   "cell_type": "code",
   "execution_count": 50,
   "metadata": {
    "colab": {
     "base_uri": "https://localhost:8080/"
    },
    "executionInfo": {
     "elapsed": 143,
     "status": "ok",
     "timestamp": 1686240440593,
     "user": {
      "displayName": "Anas Buhayh",
      "userId": "13931278578707862625"
     },
     "user_tz": 360
    },
    "id": "4Snnh2S-wjnd",
    "outputId": "0db6ace7-b698-45de-af3d-9204ba58a4ff"
   },
   "outputs": [
    {
     "name": "stdout",
     "output_type": "stream",
     "text": [
      "['blue', 'circle', 'circle', 'pink', 'purple', 'red', 'square', 'square', 'triangle', 'triangle', 'yellow', 'yellow']\n",
      "['blue', 'circle', 'circle', 'pink', 'purple', 'red', 'square', 'square', 'triangle', 'triangle', 'yellow']\n"
     ]
    }
   ],
   "source": [
    "#deleteing \n",
    "# list_name.remove(thing_to_remove)\n",
    "# .remove() removes the first occurence of the item u want to remove\n",
    "print(colors)\n",
    "colors.remove(\"yellow\")\n",
    "print(colors)"
   ]
  },
  {
   "cell_type": "code",
   "execution_count": 56,
   "metadata": {
    "colab": {
     "base_uri": "https://localhost:8080/",
     "height": 35
    },
    "executionInfo": {
     "elapsed": 135,
     "status": "ok",
     "timestamp": 1686240445739,
     "user": {
      "displayName": "Anas Buhayh",
      "userId": "13931278578707862625"
     },
     "user_tz": 360
    },
    "id": "h7mGfEDTwy-R",
    "outputId": "c13e767b-2105-4c4c-ef36-58920f66e26f",
    "scrolled": true
   },
   "outputs": [
    {
     "name": "stdout",
     "output_type": "stream",
     "text": [
      "['red', 'white', 'blue']\n",
      "['red', 'white']\n",
      "['green', 'yellow', 'blue']\n",
      "yellow\n",
      "['green', 'blue']\n"
     ]
    }
   ],
   "source": [
    "#pop() \n",
    "list2 = [\"red\", \"white\", \"blue\"]\n",
    "print(list2)\n",
    "list2.pop() #takes away the last item in the list, returns that same item\n",
    "print(list2)\n",
    "# pop a specifc item by index of list\n",
    "list3 = [\"green\", \"yellow\", \"blue\"]\n",
    "print(list3)\n",
    "second_item = list3.pop(1)\n",
    "print(second_item)\n",
    "print(list3)"
   ]
  },
  {
   "cell_type": "code",
   "execution_count": 58,
   "metadata": {
    "colab": {
     "base_uri": "https://localhost:8080/",
     "height": 35
    },
    "executionInfo": {
     "elapsed": 8,
     "status": "ok",
     "timestamp": 1686240457424,
     "user": {
      "displayName": "Anas Buhayh",
      "userId": "13931278578707862625"
     },
     "user_tz": 360
    },
    "id": "0RIGyvT7w1pK",
    "outputId": "bf6eb32a-9760-4199-a105-6c821dcbfebb"
   },
   "outputs": [
    {
     "name": "stdout",
     "output_type": "stream",
     "text": [
      "['one', 'two', 'three', 'four', 'five', 'six']\n",
      "['one', 'two', 'four', 'five', 'six']\n",
      "three\n"
     ]
    }
   ],
   "source": [
    "#pop at a specific position (position 2)[not the same as 2nd item]\n",
    "\n",
    "# position 2 = index 2\n",
    "new_list = [\"one\", \"two\", \"three\", \"four\", \"five\", \"six\"]\n",
    "print(new_list)\n",
    "pop_position2 = new_list.pop(2)\n",
    "print(new_list)\n",
    "print(pop_position2)"
   ]
  },
  {
   "cell_type": "code",
   "execution_count": null,
   "metadata": {},
   "outputs": [],
   "source": [
    "# position = INDEX NUMBER "
   ]
  },
  {
   "cell_type": "code",
   "execution_count": 60,
   "metadata": {
    "colab": {
     "base_uri": "https://localhost:8080/",
     "height": 35
    },
    "executionInfo": {
     "elapsed": 8,
     "status": "ok",
     "timestamp": 1686240471678,
     "user": {
      "displayName": "Anas Buhayh",
      "userId": "13931278578707862625"
     },
     "user_tz": 360
    },
    "id": "Y6_lPHdZw417",
    "outputId": "0fa1789d-29ef-4020-d980-21b676e84a12"
   },
   "outputs": [
    {
     "name": "stdout",
     "output_type": "stream",
     "text": [
      "four\n",
      "['one', 'five', 'six']\n"
     ]
    }
   ],
   "source": [
    "#pop position 1\n",
    "print(new_list.pop(1))\n",
    "print(new_list)"
   ]
  },
  {
   "cell_type": "code",
   "execution_count": 62,
   "metadata": {
    "colab": {
     "base_uri": "https://localhost:8080/",
     "height": 35
    },
    "executionInfo": {
     "elapsed": 218,
     "status": "ok",
     "timestamp": 1686240509284,
     "user": {
      "displayName": "Anas Buhayh",
      "userId": "13931278578707862625"
     },
     "user_tz": 360
    },
    "id": "szdS-w39xA3a",
    "outputId": "d98fa02c-d25c-4b3f-f549-f1a86f18b808"
   },
   "outputs": [
    {
     "name": "stdout",
     "output_type": "stream",
     "text": [
      "['one', 'five', 'six']\n",
      "one\n"
     ]
    }
   ],
   "source": [
    "#pop the first thing in the list\n",
    "print(new_list)\n",
    "print(new_list.pop(0))"
   ]
  },
  {
   "cell_type": "code",
   "execution_count": 63,
   "metadata": {
    "id": "2XQeXYfbxT3L"
   },
   "outputs": [
    {
     "name": "stdout",
     "output_type": "stream",
     "text": [
      "['five', 'six']\n",
      "['one', 'two', 'three', 'four', 'five', 'six']\n"
     ]
    }
   ],
   "source": [
    "#resetting the list\n",
    "# clear() - makes empty list/clears the list\n",
    "# or, create copy of list beroe .pop() and set popped list to original list\n",
    "original_list = [\"one\", \"two\", \"three\", \"four\", \"five\", \"six\"]\n",
    "print(new_list)\n",
    "new_list = original_list\n",
    "print(new_list)"
   ]
  },
  {
   "cell_type": "code",
   "execution_count": 64,
   "metadata": {
    "id": "KvcIrEb0xDt4"
   },
   "outputs": [
    {
     "name": "stdout",
     "output_type": "stream",
     "text": [
      "The popped item: three\n"
     ]
    }
   ],
   "source": [
    "#assign the popped item\n",
    "popped_item = new_list.pop(2)\n",
    "print(\"The popped item: \" + popped_item)\n"
   ]
  },
  {
   "cell_type": "code",
   "execution_count": 65,
   "metadata": {
    "id": "L2Al8rTzxYAz"
   },
   "outputs": [
    {
     "name": "stdout",
     "output_type": "stream",
     "text": [
      "['one', 'two', 'four', 'five', 'six']\n",
      "['two', 'four', 'five', 'six']\n",
      "['four', 'five', 'six']\n"
     ]
    }
   ],
   "source": [
    "# Remove\n",
    "# list_name.remove(thing-2-remove)\n",
    "print(new_list)\n",
    "new_list.remove(\"one\") # removes first instance of 1 in the list\n",
    "print(new_list)\n",
    "\n",
    "# del keyoword deletes the item at the index \n",
    "del new_list[0]\n",
    "print(new_list)\n",
    "# remove is basically pop but instead of going by index u can say what u wanna remove\n",
    "# pop is u have error and dont know what it is "
   ]
  },
  {
   "cell_type": "code",
   "execution_count": 67,
   "metadata": {
    "colab": {
     "base_uri": "https://localhost:8080/"
    },
    "executionInfo": {
     "elapsed": 189,
     "status": "ok",
     "timestamp": 1686240618893,
     "user": {
      "displayName": "Anas Buhayh",
      "userId": "13931278578707862625"
     },
     "user_tz": 360
    },
    "id": "FPr1c7uyxdqt",
    "outputId": "e24930d2-d9da-420b-ed29-49c0670bcef3"
   },
   "outputs": [
    {
     "data": {
      "text/plain": [
       "3"
      ]
     },
     "execution_count": 67,
     "metadata": {},
     "output_type": "execute_result"
    }
   ],
   "source": [
    "# len(list_name) --> tells u the number of items in a list \n",
    "len(new_list)"
   ]
  },
  {
   "cell_type": "markdown",
   "metadata": {
    "id": "Fvcu8jT2yQYV"
   },
   "source": [
    "checking the length of the list"
   ]
  },
  {
   "cell_type": "markdown",
   "metadata": {
    "id": "c8k39uD2xpm-"
   },
   "source": [
    "### Excercise 2:\n",
    "1. create a list of the courses you took last year\n",
    "2. create a list of the courses you will take next year\n",
    "3. Add the lists together\n",
    "4. print the 3rd item of the new list\n",
    "5. print the middle 3 values using slicing\n",
    "6. delete one of the items in the list and assign it to a new variable\n",
    "7. can you add the deleted item back using append?\n",
    "8. sort the courses\n",
    "9. let's say you found a mistake in the list, can you update it?\n",
    "10. **BIG TASK:** \n",
    "  - add an input statement to check if the course is in your lists, \n",
    "  - **if** the course is in last years list, print out (\"I took this course last year\") \n",
    "  - **elif** it was in the next year list, print out (\"I will take it next year\") \n",
    "  - **else** print out, (\"this course is not in my lists\")"
   ]
  },
  {
   "cell_type": "code",
   "execution_count": 71,
   "metadata": {},
   "outputs": [
    {
     "name": "stdout",
     "output_type": "stream",
     "text": [
      "['MUEL1832', 'PSYC2012', 'PSYC2111', 'ANTH1170', 'INFO1701', 'NRSC2125', 'PSYC3111', 'PSYC3303']\n",
      "['MUEL1832', 'PSYC2012', 'PSYC2111', 'ANTH1170', 'INFO1701', 'NRSC2125', 'PSYC3111', 'PSYC3303']\n",
      "['MUEL1832', 'PSYC2012', 'PSYC2111', 'ANTH1170', 'INFO1701', 'NRSC2125', 'PSYC3111', 'PSYC3303', 'SLHS1010', 'INFO3401', 'NRSC2150', 'INFO4306', 'WRT3030', 'PSYC4541']\n",
      "PSYC2111\n"
     ]
    }
   ],
   "source": [
    "# 1- classes taken this year\n",
    "classes_yr2 = [\"MUEL1832\",\"PSYC2012\",\"PSYC2111\",\"ANTH1170\",\"INFO1701\",\"NRSC2125\",\"PSYC3111\",\"PSYC3303\"]\n",
    "print(classes_yr2)\n",
    "\n",
    "\n",
    "# 2- classes being taken next year in fall\n",
    "classes_yr3 = [\"SLHS1010\", \"INFO3401\", \"NRSC2150\", \"INFO4306\", \"WRT3030\", \"PSYC4541\"]\n",
    "print(classes_yr2)\n",
    "\n",
    "# 3- add lists\n",
    "classes_yr2_3 = classes_yr2 + classes_yr3\n",
    "print(classes_yr2_3)\n",
    "\n",
    "# 4- 3rd item of new list\n",
    "classes_yr2_3_item3 = classes_yr2_3[2]\n",
    "print(classes_yr2_3_item3)"
   ]
  },
  {
   "cell_type": "code",
   "execution_count": 78,
   "metadata": {},
   "outputs": [
    {
     "name": "stdout",
     "output_type": "stream",
     "text": [
      "['MUEL1832', 'PSYC2012', 'PSYC2111', 'ANTH1170', 'INFO1701', 'NRSC2125', 'PSYC3111', 'PSYC3303', 'SLHS1010', 'INFO3401', 'NRSC2150', 'INFO4306', 'WRT3030', 'PSYC4541']\n",
      "7\n",
      "['NRSC2125', 'PSYC3111', 'PSYC3303']\n"
     ]
    }
   ],
   "source": [
    "# 5 - print the middle 3 values using slicing\n",
    "# find lenght of list and divide by 2 for middle val (use floor division - will round result\n",
    "# down to nears whole number)\n",
    "# slicing stops before end index\n",
    "print(classes_yr2_3)\n",
    "middle_index = len(classes_yr2_3) // 2 # middle index is 7, but we want middle 3 values (not by index), so use 6\n",
    "print(middle_index) # middle index is odd, so it is the \n",
    "middle_3_values = classes_yr2_3[middle_index - 2 : middle_index + 1]\n",
    "print(middle_3_values)"
   ]
  },
  {
   "cell_type": "code",
   "execution_count": 88,
   "metadata": {},
   "outputs": [
    {
     "name": "stdout",
     "output_type": "stream",
     "text": [
      "['ANTH1170', 'INFO1701', 'INFO3401', 'INFO4306', 'NRSC2125', 'NRSC2150', 'PSYC2012', 'PSYC2111', 'PSYC3111', 'PSYC3303', 'PSYC4541', 'SLHS1010', 'WRT3030']\n",
      "['INFO1701', 'INFO3401', 'INFO4306', 'NRSC2125', 'NRSC2150', 'PSYC2012', 'PSYC2111', 'PSYC3111', 'PSYC3303', 'PSYC4541', 'SLHS1010', 'WRT3030']\n",
      "['INFO1701', 'INFO3401', 'INFO4306', 'NRSC2125', 'NRSC2150', 'PSYC2012', 'PSYC2111', 'PSYC3111', 'PSYC3303', 'PSYC4541', 'SLHS1010', 'WRT3030', 'ANTH1170']\n",
      "None\n"
     ]
    }
   ],
   "source": [
    "# 6- delete one of the items in the list and assign it to a new variable\n",
    "print(classes_yr2_3)\n",
    "deleted_class = classes_yr2_3.pop(0)\n",
    "print(classes_yr2_3)\n",
    "\n",
    "\n",
    "# 7- can you add the deleted item back using append?\n",
    "classes_yr2_3.append(deleted_class)\n",
    "print(classes_yr2_3)\n",
    "# 8- sort the courses\n",
    "print(classes_yr2_3.sort())"
   ]
  },
  {
   "cell_type": "code",
   "execution_count": 89,
   "metadata": {},
   "outputs": [
    {
     "name": "stdout",
     "output_type": "stream",
     "text": [
      "0\n",
      "['ANTH1172', 'INFO1701', 'INFO3401', 'INFO4306', 'NRSC2125', 'NRSC2150', 'PSYC2012', 'PSYC2111', 'PSYC3111', 'PSYC3303', 'PSYC4541', 'SLHS1010', 'WRT3030']\n"
     ]
    }
   ],
   "source": [
    "# 9- let's say you found a mistake in the list, can you update it?\n",
    "# yes. 1) if there was a mistake at an index, you would get the index of the mistake (ex. anth1170 shld b anth1172)\n",
    "index_mistake = classes_yr2_3.index(\"ANTH1170\")\n",
    "print(index_mistake)\n",
    "classes_yr2_3[index_mistake] = \"ANTH1172\" # put correct value in the index\n",
    "print(classes_yr2_3)"
   ]
  },
  {
   "cell_type": "code",
   "execution_count": 94,
   "metadata": {},
   "outputs": [
    {
     "name": "stdout",
     "output_type": "stream",
     "text": [
      "['MUEL1832', 'PSYC2012', 'PSYC2111', 'ANTH1170', 'INFO1701', 'NRSC2125', 'PSYC3111', 'PSYC3303']\n",
      "['MUEL1832', 'PSYC2012', 'PSYC2111', 'ANTH1170', 'INFO1701', 'NRSC2125', 'PSYC3111', 'PSYC3303']\n",
      "['MUEL1832', 'PSYC2012', 'PSYC2111', 'ANTH1170', 'INFO1701', 'NRSC2125', 'PSYC3111', 'PSYC3303', 'SLHS1010', 'INFO3401', 'NRSC2150', 'INFO4306', 'WRT3030', 'PSYC4541']\n"
     ]
    },
    {
     "name": "stdin",
     "output_type": "stream",
     "text": [
      "What course do you want to check? INFO1701\n"
     ]
    },
    {
     "name": "stdout",
     "output_type": "stream",
     "text": [
      "I took this course last year\n"
     ]
    }
   ],
   "source": [
    "# 10- \n",
    "# add an input statement to check if the course is in your lists,\n",
    "# if the course is in last years list, print out (\"I took this course last year\")\n",
    "# elif it was in the next year list, print out (\"I will take it next year\")\n",
    "# else print out, (\"this course is not in my lists\")\n",
    "\n",
    "classes_yr2 = [\"MUEL1832\",\"PSYC2012\",\"PSYC2111\",\"ANTH1170\",\"INFO1701\",\"NRSC2125\",\"PSYC3111\",\"PSYC3303\"]\n",
    "print(classes_yr2)\n",
    "classes_yr3 = [\"SLHS1010\", \"INFO3401\", \"NRSC2150\", \"INFO4306\", \"WRT3030\", \"PSYC4541\"]\n",
    "print(classes_yr2)\n",
    "classes_yr2_3 = classes_yr2 + classes_yr3\n",
    "print(classes_yr2_3)\n",
    "\n",
    "check_class = input(\"What course do you want to check?\")\n",
    "#in_lists = check_class in classes_yr2_3\n",
    "#print(in_lists)\n",
    "if check_class in classes_yr2:\n",
    "    print(\"I took this course last year\")\n",
    "elif check_class in classes_y3:\n",
    "    print(\"I will take it next year\")\n",
    "else:\n",
    "    print(\"this course is not in my lists\")"
   ]
  },
  {
   "cell_type": "markdown",
   "metadata": {
    "id": "edDNd3sl0dbE"
   },
   "source": [
    "# Dictionaries\n",
    "\n",
    "Dictionaries are used to store data values in key:value pairs. Dictionaries cannot have two items with the same key.\n",
    "\n",
    "Dictionary items are ordered, changeable, and do not allow duplicates. Dictionary items are presented in key:value pairs, and can be referred to by using the key name.\n",
    "\n"
   ]
  },
  {
   "cell_type": "code",
   "execution_count": 95,
   "metadata": {
    "colab": {
     "base_uri": "https://localhost:8080/"
    },
    "executionInfo": {
     "elapsed": 156,
     "status": "ok",
     "timestamp": 1686241471878,
     "user": {
      "displayName": "Anas Buhayh",
      "userId": "13931278578707862625"
     },
     "user_tz": 360
    },
    "id": "7lgkife7xeb9",
    "outputId": "9b530849-9461-42d6-884b-d985031adcdd"
   },
   "outputs": [],
   "source": [
    "#make an empty dictionary\n",
    "dict = {}"
   ]
  },
  {
   "cell_type": "code",
   "execution_count": 96,
   "metadata": {
    "colab": {
     "base_uri": "https://localhost:8080/"
    },
    "executionInfo": {
     "elapsed": 6,
     "status": "ok",
     "timestamp": 1686241472063,
     "user": {
      "displayName": "Anas Buhayh",
      "userId": "13931278578707862625"
     },
     "user_tz": 360
    },
    "id": "kx_-R7ob0j_a",
    "outputId": "46aa8e2e-d423-468f-abdd-6e60882316ba"
   },
   "outputs": [
    {
     "name": "stdout",
     "output_type": "stream",
     "text": [
      "<class 'dict'>\n"
     ]
    }
   ],
   "source": [
    "#check the type\n",
    "print(type(dict))"
   ]
  },
  {
   "cell_type": "code",
   "execution_count": 13,
   "metadata": {
    "id": "6XfFcDWr0k7x"
   },
   "outputs": [
    {
     "name": "stdout",
     "output_type": "stream",
     "text": [
      "{'brand': 'Porsche', 'model': 911, 'year': 2020, 'color': 'white'}\n"
     ]
    }
   ],
   "source": [
    "#make a dicitonary about a car\n",
    "car = {\n",
    "    \"brand\": \"Porsche\",\n",
    "    \"model\": 911,\n",
    "    \"year\": 2020, \n",
    "    \"color\": \"white\"}\n",
    "print(car)"
   ]
  },
  {
   "cell_type": "code",
   "execution_count": null,
   "metadata": {
    "colab": {
     "base_uri": "https://localhost:8080/"
    },
    "executionInfo": {
     "elapsed": 125,
     "status": "ok",
     "timestamp": 1686241634145,
     "user": {
      "displayName": "Anas Buhayh",
      "userId": "13931278578707862625"
     },
     "user_tz": 360
    },
    "id": "nMbjq0zw0yj-",
    "outputId": "476470bf-400f-4b41-bb9e-73fa7560e60e"
   },
   "outputs": [],
   "source": []
  },
  {
   "cell_type": "code",
   "execution_count": 99,
   "metadata": {
    "colab": {
     "base_uri": "https://localhost:8080/"
    },
    "executionInfo": {
     "elapsed": 2,
     "status": "ok",
     "timestamp": 1686241639034,
     "user": {
      "displayName": "Anas Buhayh",
      "userId": "13931278578707862625"
     },
     "user_tz": 360
    },
    "id": "D9cixGa20y-W",
    "outputId": "0bf052ab-5177-4f1a-f41d-7a6a1c707971"
   },
   "outputs": [
    {
     "name": "stdout",
     "output_type": "stream",
     "text": [
      "Porsche\n"
     ]
    }
   ],
   "source": [
    "#get the brand of the car\n",
    "print(car[\"brand\"])"
   ]
  },
  {
   "cell_type": "code",
   "execution_count": 15,
   "metadata": {
    "colab": {
     "base_uri": "https://localhost:8080/"
    },
    "executionInfo": {
     "elapsed": 319,
     "status": "ok",
     "timestamp": 1686241643442,
     "user": {
      "displayName": "Anas Buhayh",
      "userId": "13931278578707862625"
     },
     "user_tz": 360
    },
    "id": "cocXag_S07Vx",
    "outputId": "e5693bd7-aa93-42d8-bacc-532586100b0e"
   },
   "outputs": [
    {
     "name": "stdout",
     "output_type": "stream",
     "text": [
      "the key color was found\n"
     ]
    },
    {
     "data": {
      "text/plain": [
       "True"
      ]
     },
     "execution_count": 15,
     "metadata": {},
     "output_type": "execute_result"
    }
   ],
   "source": [
    "#check if the value 'color' is in the dictionary\n",
    "for key in car:\n",
    "    if key == \"color\":\n",
    "        print(\"the key color was found\")\n",
    "\"color\" in car # this only checks the KEYS "
   ]
  },
  {
   "cell_type": "code",
   "execution_count": 106,
   "metadata": {
    "id": "fyrwrLLj1Fhm"
   },
   "outputs": [
    {
     "name": "stdout",
     "output_type": "stream",
     "text": [
      "{'brand': 'Porsche', 'model': 911, 'year': 2020, 'color': 'white', 'name': 'Flash'}\n"
     ]
    }
   ],
   "source": [
    "# make a new dictionary key:value pair assigning a name to the car \n",
    "car[\"name\"] = \"Flash\"\n",
    "print(car)"
   ]
  },
  {
   "cell_type": "code",
   "execution_count": 107,
   "metadata": {
    "colab": {
     "base_uri": "https://localhost:8080/"
    },
    "executionInfo": {
     "elapsed": 6,
     "status": "ok",
     "timestamp": 1686241659034,
     "user": {
      "displayName": "Anas Buhayh",
      "userId": "13931278578707862625"
     },
     "user_tz": 360
    },
    "id": "8K7B_RLD1aBU",
    "outputId": "d73b467a-afda-43b2-f291-9d73d6e5d791"
   },
   "outputs": [
    {
     "name": "stdout",
     "output_type": "stream",
     "text": [
      "dict_values(['Porsche', 911, 2020, 'white', 'Flash'])\n"
     ]
    }
   ],
   "source": [
    "#return out all of the dictionary values\n",
    "print(car.values()) # values() resturns the values of the keys in a dictionary \n"
   ]
  },
  {
   "cell_type": "code",
   "execution_count": 108,
   "metadata": {
    "colab": {
     "base_uri": "https://localhost:8080/"
    },
    "executionInfo": {
     "elapsed": 7,
     "status": "ok",
     "timestamp": 1686241666924,
     "user": {
      "displayName": "Anas Buhayh",
      "userId": "13931278578707862625"
     },
     "user_tz": 360
    },
    "id": "oH-jo2WE1cbV",
    "outputId": "b82a85ed-5b2c-419b-d3e2-ef439a05cbef"
   },
   "outputs": [
    {
     "name": "stdout",
     "output_type": "stream",
     "text": [
      "dict_keys(['brand', 'model', 'year', 'color', 'name'])\n"
     ]
    }
   ],
   "source": [
    "#return all of the dictionary keys\n",
    "print(car.keys()) # .keys() returns all the keys in a dictionary"
   ]
  },
  {
   "cell_type": "code",
   "execution_count": 110,
   "metadata": {
    "id": "4FrRcmf91eXT"
   },
   "outputs": [
    {
     "name": "stdout",
     "output_type": "stream",
     "text": [
      "pink\n"
     ]
    }
   ],
   "source": [
    "#change the color of the car\n",
    "car[\"color\"] = \"pink\"\n",
    "print(car[\"color\"])"
   ]
  },
  {
   "cell_type": "code",
   "execution_count": 112,
   "metadata": {
    "colab": {
     "base_uri": "https://localhost:8080/"
    },
    "executionInfo": {
     "elapsed": 4,
     "status": "ok",
     "timestamp": 1686241817032,
     "user": {
      "displayName": "Anas Buhayh",
      "userId": "13931278578707862625"
     },
     "user_tz": 360
    },
    "id": "ytS12mAK1-ih",
    "outputId": "ddfb67e1-92e5-4a6f-ed8a-b73776107d3b"
   },
   "outputs": [
    {
     "name": "stdout",
     "output_type": "stream",
     "text": [
      "dict_items([('brand', 'Porsche'), ('model', 911), ('year', 2020), ('color', 'pink'), ('name', 'Flash')])\n"
     ]
    }
   ],
   "source": [
    "#return all the items in the dictionary\n",
    "print(car.items()) # dict_name.items() returns all key:value pairs in dictionary"
   ]
  },
  {
   "cell_type": "code",
   "execution_count": 117,
   "metadata": {
    "colab": {
     "base_uri": "https://localhost:8080/",
     "height": 35
    },
    "executionInfo": {
     "elapsed": 153,
     "status": "ok",
     "timestamp": 1686241889366,
     "user": {
      "displayName": "Anas Buhayh",
      "userId": "13931278578707862625"
     },
     "user_tz": 360
    },
    "id": "DGyew-s42DBo",
    "outputId": "e8fb2b25-3f52-4d53-bf36-5c1df69b93fc"
   },
   "outputs": [
    {
     "name": "stdout",
     "output_type": "stream",
     "text": [
      "{'brand': 'Porsche', 'model': 911, 'year': 2020, 'color': 'pink'}\n"
     ]
    }
   ],
   "source": [
    "#get rid of the name of the car\n",
    "del car[\"name\"] # will delete the key name OR # car.pop(\"name\") --> name of key u want to delete\n",
    "print(car)"
   ]
  },
  {
   "cell_type": "code",
   "execution_count": 120,
   "metadata": {
    "id": "kzT69VYi2VEL"
   },
   "outputs": [
    {
     "name": "stdout",
     "output_type": "stream",
     "text": [
      "{}\n",
      "{}\n"
     ]
    }
   ],
   "source": [
    "#clear the dictionary\n",
    "print(car)\n",
    "car.clear()\n",
    "print(car)"
   ]
  },
  {
   "cell_type": "code",
   "execution_count": null,
   "metadata": {},
   "outputs": [],
   "source": []
  },
  {
   "cell_type": "markdown",
   "metadata": {
    "id": "pzE8oT6k2iVm"
   },
   "source": [
    "### Excercise 3:\n",
    "1. create a dictionary of an item you own\n",
    "2. Print out the dictionary keys\n",
    "3. print out the dicionary values\n",
    "4. add a key, value pair to the dictionary (another information about your object)\n",
    "5. update one of the items in the dictionary\n",
    "6. **BIG TASK:** \n",
    "  - add an input statement to read a key, and another one to read a value. The\n",
    "  - **if** the key is in the dictionary, update the current value. **else** create a new key value pair using the input informtion\n",
    "  - print out everything!"
   ]
  },
  {
   "cell_type": "code",
   "execution_count": 139,
   "metadata": {
    "id": "JSTKlFar5Cq4"
   },
   "outputs": [
    {
     "name": "stdout",
     "output_type": "stream",
     "text": [
      "{'place': 'san fransisco', 'leave date': 'June 2', 'return date': 'June 6', 'budget': 200}\n",
      "dict_keys(['place', 'leave date', 'return date', 'budget'])\n",
      "dict_values(['san fransisco', 'June 2', 'June 6', 200])\n",
      "{'place': 'san fransisco', 'leave date': 'June 2', 'return date': 'June 6', 'budget': 200, 'activities': ['beach', 'shop', 'swim']}\n",
      "{'place': 'san fransisco', 'leave date': 'June 2', 'return date': 'June 20', 'budget': 200, 'activities': ['beach', 'shop', 'swim']}\n"
     ]
    },
    {
     "name": "stdin",
     "output_type": "stream",
     "text": [
      "Enter the key to read/update airline\n",
      "Enter the value to read/update united\n"
     ]
    },
    {
     "name": "stdout",
     "output_type": "stream",
     "text": [
      "{'place': 'san fransisco', 'leave date': 'June 2', 'return date': 'June 20', 'budget': 200, 'activities': ['beach', 'shop', 'swim']}\n",
      "key not found. adding the new key:value pair: airline:united\n",
      "{'place': 'san fransisco', 'leave date': 'June 2', 'return date': 'June 20', 'budget': 200, 'activities': ['beach', 'shop', 'swim'], 'airline': 'united'}\n"
     ]
    }
   ],
   "source": [
    "# 1 - dic\n",
    "trip = { \"place\": \"san fransisco\", \"leave date\": \"June 2\", \"return date\": \"June 6\", \"budget\": 200}\n",
    "print(trip)\n",
    "\n",
    "# 2- print keys\n",
    "print(trip.keys())\n",
    "\n",
    "# 3- print values\n",
    "print(trip.values())\n",
    "\n",
    "# 4- add key:value pair \n",
    "trip[\"activities\"] = [\"beach\", \"shop\", \"swim\"]\n",
    "print(trip)\n",
    "\n",
    "# 5- update \n",
    "trip[\"return date\"] =  \"June 20\"\n",
    "print(trip)\n",
    "\n",
    "# 6- add input to a key\n",
    "#read key \n",
    "key = input(\"Enter the key to read/update\").strip().lower()\n",
    "# read value \n",
    "value = input(\"Enter the value to read/update\").strip().lower()\n",
    "\n",
    "print(trip)\n",
    "\n",
    "if key in trip:\n",
    "    print(\"key found. updating \" + key + \" from \" + trip[key] + \" to \"+ value)\n",
    "else:\n",
    "    print(\"key not found. adding the new key:value pair: \" + key + \":\" + value)\n",
    "    trip[key] = value\n",
    "print(trip)\n"
   ]
  },
  {
   "cell_type": "code",
   "execution_count": null,
   "metadata": {},
   "outputs": [],
   "source": []
  }
 ],
 "metadata": {
  "colab": {
   "authorship_tag": "ABX9TyP7EQtDrQK2zWb6ti0Ab8o3",
   "provenance": []
  },
  "kernelspec": {
   "display_name": "Python 3 (ipykernel)",
   "language": "python",
   "name": "python3"
  },
  "language_info": {
   "codemirror_mode": {
    "name": "ipython",
    "version": 3
   },
   "file_extension": ".py",
   "mimetype": "text/x-python",
   "name": "python",
   "nbconvert_exporter": "python",
   "pygments_lexer": "ipython3",
   "version": "3.12.7"
  }
 },
 "nbformat": 4,
 "nbformat_minor": 4
}
