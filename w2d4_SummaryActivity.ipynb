{
 "cells": [
  {
   "cell_type": "markdown",
   "metadata": {
    "id": "5TSRRVgrPMiN"
   },
   "source": [
    "# Week 2 Summary Activity"
   ]
  },
  {
   "cell_type": "markdown",
   "metadata": {
    "id": "xRRivfQIPVvP"
   },
   "source": [
    "## Problem 1 - Dictionaries\n",
    "\n"
   ]
  },
  {
   "cell_type": "code",
   "execution_count": 2,
   "metadata": {
    "executionInfo": {
     "elapsed": 12,
     "status": "ok",
     "timestamp": 1687202049341,
     "user": {
      "displayName": "Anas X384569",
      "userId": "13931278578707862625"
     },
     "user_tz": 360
    },
    "id": "37qHxmKDPBkP"
   },
   "outputs": [],
   "source": [
    "student_dictionary = { 101 : {'Name': 'George Bluth',\n",
    "                              'AverageScore': 85,\n",
    "                               'Year' : 2,\n",
    "                              'Class' : 'INFO1201'\n",
    "                              },\n",
    "                     102 : {'Name': 'Lucille Bluth',\n",
    "                              'AverageScore': 100,\n",
    "                               'Year' : 3,\n",
    "                              'Class' : 'INFO1201'\n",
    "                              },\n",
    "                     103 : {'Name': 'George Michael Bluth',\n",
    "                              'AverageScore': 98,\n",
    "                               'Year' : 1,\n",
    "                              'Class' : 'INFO1101'\n",
    "                              },\n",
    "                     104 : {'Name': 'Michael Bluth',\n",
    "                              'AverageScore': 90,\n",
    "                               'Year' : 5,\n",
    "                              'Class' : 'INFO2201'\n",
    "                              },\n",
    "                     105 : {'Name': 'Gob Bluth',\n",
    "                              'AverageScore': 40,\n",
    "                               'Year' : 8,\n",
    "                              'Class' : 'INFO1101'\n",
    "                              },\n",
    "                     106 : {'Name': 'Lindsay Bluth',\n",
    "                              'AverageScore': 70,\n",
    "                               'Year' : 4,\n",
    "                              'Class' : 'INFO1201'\n",
    "                              },\n",
    "                     107 : {'Name': 'Buster Bluth',\n",
    "                              'AverageScore': 95,\n",
    "                               'Year' : 2,\n",
    "                              'Class' : 'INFO1201'\n",
    "                              },\n",
    "                     108 : {'Name': 'Sally Sitwell',\n",
    "                              'AverageScore': 93,\n",
    "                               'Year' : 2,\n",
    "                              'Class' : 'INFO1201'\n",
    "                              }}"
   ]
  },
  {
   "cell_type": "markdown",
   "metadata": {
    "id": "_6rz2SNfQvHy"
   },
   "source": [
    "#### Question 1:\n",
    "Iterate through the dictionary and print out students names and their average score\n",
    "Ex: Lucille Bluth : 98"
   ]
  },
  {
   "cell_type": "code",
   "execution_count": 10,
   "metadata": {
    "colab": {
     "base_uri": "https://localhost:8080/"
    },
    "executionInfo": {
     "elapsed": 226,
     "status": "ok",
     "timestamp": 1687202049558,
     "user": {
      "displayName": "Anas X384569",
      "userId": "13931278578707862625"
     },
     "user_tz": 360
    },
    "id": "2zHfs4-ZQiQe",
    "outputId": "c687a60f-2713-41c4-bc28-80cd15829756"
   },
   "outputs": [
    {
     "name": "stdout",
     "output_type": "stream",
     "text": [
      "George Bluth: 85\n",
      "Lucille Bluth: 100\n",
      "George Michael Bluth: 98\n",
      "Michael Bluth: 90\n",
      "Gob Bluth: 40\n",
      "Lindsay Bluth: 70\n",
      "Buster Bluth: 95\n",
      "Sally Sitwell: 93\n"
     ]
    }
   ],
   "source": [
    "for student in student_dictionary.values(): # iterates thru the values of each key in the dictionary\n",
    "    print( student[\"Name\"]+\": \"+ str(student[\"AverageScore\"]))\n",
    "    # print the value at the key called \"Name\" and Averagescore for each student\n",
    "  "
   ]
  },
  {
   "cell_type": "code",
   "execution_count": null,
   "metadata": {
    "colab": {
     "base_uri": "https://localhost:8080/"
    },
    "executionInfo": {
     "elapsed": 146,
     "status": "ok",
     "timestamp": 1687202135283,
     "user": {
      "displayName": "Anas X384569",
      "userId": "13931278578707862625"
     },
     "user_tz": 360
    },
    "id": "P4DEGco7WNnd",
    "outputId": "10cb465c-d78e-432f-dab7-b34eced8f568"
   },
   "outputs": [],
   "source": []
  },
  {
   "cell_type": "markdown",
   "metadata": {
    "id": "AJRQzwMmQ8hn"
   },
   "source": [
    "#### Question 2:\n",
    "Find the student with the highest average score"
   ]
  },
  {
   "cell_type": "code",
   "execution_count": 7,
   "metadata": {
    "colab": {
     "base_uri": "https://localhost:8080/"
    },
    "executionInfo": {
     "elapsed": 5,
     "status": "ok",
     "timestamp": 1687190584189,
     "user": {
      "displayName": "Anas X384569",
      "userId": "13931278578707862625"
     },
     "user_tz": 360
    },
    "id": "9l-EKif6Qqzg",
    "outputId": "4e7f9eac-9128-4ae4-d29a-a0197e2741e1"
   },
   "outputs": [
    {
     "name": "stdout",
     "output_type": "stream",
     "text": [
      "{'Name': 'George Bluth', 'AverageScore': 85, 'Year': 2, 'Class': 'INFO1201'}\n",
      "{'Name': 'Lucille Bluth', 'AverageScore': 100, 'Year': 3, 'Class': 'INFO1201'}\n",
      "{'Name': 'George Michael Bluth', 'AverageScore': 98, 'Year': 1, 'Class': 'INFO1101'}\n",
      "{'Name': 'Michael Bluth', 'AverageScore': 90, 'Year': 5, 'Class': 'INFO2201'}\n",
      "{'Name': 'Gob Bluth', 'AverageScore': 40, 'Year': 8, 'Class': 'INFO1101'}\n",
      "{'Name': 'Lindsay Bluth', 'AverageScore': 70, 'Year': 4, 'Class': 'INFO1201'}\n",
      "{'Name': 'Buster Bluth', 'AverageScore': 95, 'Year': 2, 'Class': 'INFO1201'}\n",
      "{'Name': 'Sally Sitwell', 'AverageScore': 93, 'Year': 2, 'Class': 'INFO1201'}\n",
      "The student with the highest score is: Lucille Bluth, who scored a 100\n"
     ]
    }
   ],
   "source": [
    "highest_score = 0 # start with highest score being 0\n",
    "student_w_score = \" \" \n",
    "\n",
    "for student in student_dictionary.values(): # loop thru the values of each student key in the dictionary\n",
    "   # print(student)\n",
    "    # check if current student's score is higher than highest_score\n",
    "    if student[\"AverageScore\"] > highest_score: \n",
    "        highest_score = student[\"AverageScore\"]\n",
    "        student_w_score = student[\"Name\"]\n",
    "print(\"The student with the highest score is: \" + student_w_score + \", who scored a \" + str(highest_score))"
   ]
  },
  {
   "cell_type": "markdown",
   "metadata": {
    "id": "DNUm-yR1Q-Dt"
   },
   "source": [
    "#### Question 3:\n",
    "Find the total average of all the students"
   ]
  },
  {
   "cell_type": "code",
   "execution_count": 17,
   "metadata": {
    "colab": {
     "base_uri": "https://localhost:8080/"
    },
    "executionInfo": {
     "elapsed": 2,
     "status": "ok",
     "timestamp": 1687190584346,
     "user": {
      "displayName": "Anas X384569",
      "userId": "13931278578707862625"
     },
     "user_tz": 360
    },
    "id": "FPFNKTpGRDOZ",
    "outputId": "6ca803de-7ece-41f2-c190-f33ddcf61931"
   },
   "outputs": [
    {
     "name": "stdout",
     "output_type": "stream",
     "text": [
      "85\n",
      "185\n",
      "283\n",
      "373\n",
      "413\n",
      "483\n",
      "578\n",
      "671\n",
      "8\n",
      "The total average is: 83.875\n"
     ]
    }
   ],
   "source": [
    "total_average = 0\n",
    "#add all \n",
    "#ivide by number of keys \n",
    "scores_added = 0\n",
    "for student in student_dictionary.values():\n",
    "    scores_added += student[\"AverageScore\"]\n",
    "    print (int(scores_added))\n",
    "num_of_scores = len(student_dictionary)\n",
    "print(str(num_of_scores))\n",
    "average = scores_added / num_of_scores\n",
    "\n",
    "print(\"The total average is: \" + str(average))"
   ]
  },
  {
   "cell_type": "markdown",
   "metadata": {
    "id": "pmS0IrwKRD7a"
   },
   "source": [
    "## Problem 2 - Functions"
   ]
  },
  {
   "cell_type": "markdown",
   "metadata": {
    "id": "kVWNpOenSZq_"
   },
   "source": [
    "Create a function to read two six-sided dice, each with faces containing one, two, three, four, five and six spots, respectively. When the dice come to rest, the sum of the spots on the two upward faces is calculated. If the sum is 7 or 11 on the first roll, you win. If the sum is 2, 3 or 12 on the first roll (called “craps”), you lose (i.e., the “house” wins). If the sum is 4, 5, 6, 8, 9 or 10 on the first roll, that sum becomes your “point.” To win, you must continue rolling the dice until you “make your point” (i.e., roll that same point value). You lose by rolling a 7 before making your point."
   ]
  },
  {
   "cell_type": "code",
   "execution_count": 35,
   "metadata": {
    "id": "rlThnSfVRsF3"
   },
   "outputs": [],
   "source": [
    "import random # use for rolling the dice and getting random numbers\n",
    "\n",
    "def diceRoll():\n",
    "    dice1 = random.random(1,6) \n",
    "    print(\"The first dice roll is a \" + str(dice1))\n",
    "\n",
    "    dice2 = random.random(1,6) \n",
    "    print(\"The second dice roll is a \" + str(dice2))\n",
    "\n",
    "    sum = dice1 + dice2\n",
    "    print(\"The sum of the 2 die is: \" + str(sum))\n",
    "    return sum\n",
    "\n",
    "def thegame():\n",
    "    roll1 = diceRoll() # get the sum from the first dice roll\n",
    "    \n",
    "    if sum == 7 or sum == 11:\n",
    "        print(\"You rolled a 7 or an 11. You win!\")\n",
    "        return\n",
    "    elif sum == 2 or sum == 3 or sum == 12:\n",
    "        print(\"You rolled either a 2, 3, or 12. Crap, you lose!\")\n",
    "        return\n",
    "\n",
    "    else:\n",
    "        # sum == 4 or sum == 5 or sum == 6 or sum == 8 or sum == 9 or sum == 10:\n",
    "        print(\"You rolled either a 4, 5, 6, 8, 9 or 10. You have \" + str(sum) + \" points.\")\n",
    "        print(\"role the same number again to win\")\n",
    "        \n",
    "        point = roll1 \n",
    "        \n",
    "        while \n",
    "    \n",
    "    \n",
    "\n",
    "    "
   ]
  },
  {
   "cell_type": "code",
   "execution_count": null,
   "metadata": {
    "colab": {
     "base_uri": "https://localhost:8080/"
    },
    "executionInfo": {
     "elapsed": 1259,
     "status": "ok",
     "timestamp": 1687194202141,
     "user": {
      "displayName": "Anas X384569",
      "userId": "13931278578707862625"
     },
     "user_tz": 360
    },
    "id": "aN44-N1rdGrg",
    "outputId": "7c67c4a9-8fc4-427d-b537-d7dca8b899bf"
   },
   "outputs": [],
   "source": []
  },
  {
   "cell_type": "markdown",
   "metadata": {
    "id": "XnNFuRcxSrO-"
   },
   "source": [
    "## Problem 3 - Classes"
   ]
  },
  {
   "cell_type": "markdown",
   "metadata": {
    "id": "c-gC7F5-UWFi"
   },
   "source": [
    "#### Question 1:\n",
    "\n",
    "Build a class object for restaurant informatoin. The class should have the following:\n",
    "1.   A method that reads dishes and append them to a list or a dictionary\n",
    "2.   A method that prints out the saved dishes\n",
    "\n"
   ]
  },
  {
   "cell_type": "code",
   "execution_count": 31,
   "metadata": {
    "executionInfo": {
     "elapsed": 10,
     "status": "ok",
     "timestamp": 1687203446281,
     "user": {
      "displayName": "Anas X384569",
      "userId": "13931278578707862625"
     },
     "user_tz": 360
    },
    "id": "sk0TpU_WT4r6"
   },
   "outputs": [],
   "source": [
    "class Restaurant():\n",
    "    def __init__(self, name, dishes): # make list to store the different dishes \n",
    "        self.dishes = dishes\n",
    "        self.name = name\n",
    "\n",
    "    def newDish(self, dishName):\n",
    "        self.dishes.append(dishName) # add new dish to list of dishes\n",
    "    def printDishes(self):\n",
    "        menu = \",\".join(self.dishes)\n",
    "        print(\"Menu: \" + menu)\n",
    "        \n",
    "        "
   ]
  },
  {
   "cell_type": "markdown",
   "metadata": {
    "id": "URt_0jI9V2VW"
   },
   "source": [
    "#### Question 2:\n",
    "\n",
    "create a class instance"
   ]
  },
  {
   "cell_type": "code",
   "execution_count": 32,
   "metadata": {
    "executionInfo": {
     "elapsed": 26,
     "status": "ok",
     "timestamp": 1687203446853,
     "user": {
      "displayName": "Anas X384569",
      "userId": "13931278578707862625"
     },
     "user_tz": 360
    },
    "id": "UBCKAYh7WNL0"
   },
   "outputs": [],
   "source": [
    "in_n_out = Restaurant(\"In N Out\", [\"burger\", \"fries\"])"
   ]
  },
  {
   "cell_type": "code",
   "execution_count": null,
   "metadata": {
    "colab": {
     "base_uri": "https://localhost:8080/"
    },
    "executionInfo": {
     "elapsed": 32,
     "status": "ok",
     "timestamp": 1687203446861,
     "user": {
      "displayName": "Anas X384569",
      "userId": "13931278578707862625"
     },
     "user_tz": 360
    },
    "id": "jG7hMfJ3YLc-",
    "outputId": "6141589c-9b5a-433f-d91a-73b54714d203"
   },
   "outputs": [],
   "source": []
  },
  {
   "cell_type": "code",
   "execution_count": 23,
   "metadata": {
    "colab": {
     "base_uri": "https://localhost:8080/",
     "height": 35
    },
    "executionInfo": {
     "elapsed": 21,
     "status": "ok",
     "timestamp": 1687203448553,
     "user": {
      "displayName": "Anas X384569",
      "userId": "13931278578707862625"
     },
     "user_tz": 360
    },
    "id": "WKa0s_ijYNUW",
    "outputId": "8ac857fb-da93-4d63-de0b-ad4b7ef2924b"
   },
   "outputs": [
    {
     "data": {
      "application/vnd.google.colaboratory.intrinsic+json": {
       "type": "string"
      },
      "text/plain": [
       "'Good Old Burgers'"
      ]
     },
     "execution_count": 23,
     "metadata": {},
     "output_type": "execute_result"
    }
   ],
   "source": []
  },
  {
   "cell_type": "markdown",
   "metadata": {
    "id": "DWsbDNsDWQzn"
   },
   "source": [
    "#### Question 3:\n",
    "use the two methods you created"
   ]
  },
  {
   "cell_type": "code",
   "execution_count": 33,
   "metadata": {
    "executionInfo": {
     "elapsed": 46,
     "status": "ok",
     "timestamp": 1687203451638,
     "user": {
      "displayName": "Anas X384569",
      "userId": "13931278578707862625"
     },
     "user_tz": 360
    },
    "id": "X9b8qUlfWU8q"
   },
   "outputs": [
    {
     "name": "stdout",
     "output_type": "stream",
     "text": [
      "Menu: burger,fries,soda\n"
     ]
    }
   ],
   "source": [
    "in_n_out.newDish(\"soda\")\n",
    "in_n_out.printDishes()"
   ]
  },
  {
   "cell_type": "code",
   "execution_count": null,
   "metadata": {
    "colab": {
     "base_uri": "https://localhost:8080/"
    },
    "executionInfo": {
     "elapsed": 45,
     "status": "ok",
     "timestamp": 1687203451641,
     "user": {
      "displayName": "Anas X384569",
      "userId": "13931278578707862625"
     },
     "user_tz": 360
    },
    "id": "mcVaiam5JVAv",
    "outputId": "299d87b0-5ba0-433b-c9d4-d82a169e7929"
   },
   "outputs": [],
   "source": []
  },
  {
   "cell_type": "code",
   "execution_count": null,
   "metadata": {
    "colab": {
     "base_uri": "https://localhost:8080/"
    },
    "executionInfo": {
     "elapsed": 39,
     "status": "ok",
     "timestamp": 1687203452761,
     "user": {
      "displayName": "Anas X384569",
      "userId": "13931278578707862625"
     },
     "user_tz": 360
    },
    "id": "RUHxODeBWVYq",
    "outputId": "8b164dcf-e872-4069-d0d2-34d566df131a"
   },
   "outputs": [],
   "source": []
  },
  {
   "cell_type": "markdown",
   "metadata": {
    "id": "lQjnNU89WV9l"
   },
   "source": [
    "#### Question 4:\n",
    "\n",
    "update a value you have in the class instance you created"
   ]
  },
  {
   "cell_type": "code",
   "execution_count": 34,
   "metadata": {
    "colab": {
     "base_uri": "https://localhost:8080/",
     "height": 35
    },
    "executionInfo": {
     "elapsed": 345,
     "status": "ok",
     "timestamp": 1687203459193,
     "user": {
      "displayName": "Anas X384569",
      "userId": "13931278578707862625"
     },
     "user_tz": 360
    },
    "id": "O-Fvm_oxKaU7",
    "outputId": "08b511cb-80b3-4dab-a0c9-e32a189d8a46"
   },
   "outputs": [
    {
     "name": "stdout",
     "output_type": "stream",
     "text": [
      "IN AND OUT BURGER\n"
     ]
    }
   ],
   "source": [
    "in_n_out.name = \"IN AND OUT BURGER\"\n",
    "print(in_n_out.name)"
   ]
  },
  {
   "cell_type": "code",
   "execution_count": 17,
   "metadata": {
    "executionInfo": {
     "elapsed": 180,
     "status": "ok",
     "timestamp": 1687203361618,
     "user": {
      "displayName": "Anas X384569",
      "userId": "13931278578707862625"
     },
     "user_tz": 360
    },
    "id": "4S2_nRifZNGA"
   },
   "outputs": [],
   "source": []
  },
  {
   "cell_type": "code",
   "execution_count": null,
   "metadata": {
    "colab": {
     "base_uri": "https://localhost:8080/",
     "height": 35
    },
    "executionInfo": {
     "elapsed": 213,
     "status": "ok",
     "timestamp": 1687203370892,
     "user": {
      "displayName": "Anas X384569",
      "userId": "13931278578707862625"
     },
     "user_tz": 360
    },
    "id": "P1kyxCs1KDcu",
    "outputId": "5c8cf16d-5dfa-4bf9-e840-616cfc0bf33f"
   },
   "outputs": [],
   "source": []
  },
  {
   "cell_type": "code",
   "execution_count": null,
   "metadata": {
    "id": "2oo7coeBZMd1"
   },
   "outputs": [],
   "source": []
  }
 ],
 "metadata": {
  "colab": {
   "authorship_tag": "ABX9TyN+mTOgV/u00LA/txUZYD5b",
   "provenance": []
  },
  "kernelspec": {
   "display_name": "Python 3 (ipykernel)",
   "language": "python",
   "name": "python3"
  },
  "language_info": {
   "codemirror_mode": {
    "name": "ipython",
    "version": 3
   },
   "file_extension": ".py",
   "mimetype": "text/x-python",
   "name": "python",
   "nbconvert_exporter": "python",
   "pygments_lexer": "ipython3",
   "version": "3.12.7"
  }
 },
 "nbformat": 4,
 "nbformat_minor": 4
}
