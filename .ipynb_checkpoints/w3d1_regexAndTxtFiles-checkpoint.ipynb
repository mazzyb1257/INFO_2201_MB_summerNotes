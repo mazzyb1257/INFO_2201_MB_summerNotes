{
 "cells": [
  {
   "cell_type": "markdown",
   "metadata": {
    "id": "hZRSoSReu5Mn"
   },
   "source": [
    "# Week 3 Day 1: Files, .txt files and Regular Expressions\n",
    "*   Reading and downloading files\n",
    "*   Introduction to regular expressions\n",
    "\n"
   ]
  },
  {
   "cell_type": "markdown",
   "metadata": {
    "id": "vfO9JFSwvneI"
   },
   "source": [
    "## Files\n",
    "\n",
    "Where files are downloaded to are not the same as where you are working necesarily \n",
    "\n",
    "**Lets take a moment to download the .txt file on the week 2 module, see where it is compared to where we are working**\n",
    "\n",
    "*Laurie -- do this and screenshare*"
   ]
  },
  {
   "cell_type": "markdown",
   "metadata": {},
   "source": [
    "### OS Package\n",
    "this is a package that can help you navigate different files and folders within your operating control. "
   ]
  },
  {
   "cell_type": "code",
   "execution_count": 1,
   "metadata": {},
   "outputs": [],
   "source": [
    "### Import OS\n",
    "import os"
   ]
  },
  {
   "cell_type": "code",
   "execution_count": 3,
   "metadata": {},
   "outputs": [
    {
     "name": "stdout",
     "output_type": "stream",
     "text": [
      "/Users/mazzyblase/Desktop/GitHub/INFO_2201_MB_summerNotes\n"
     ]
    }
   ],
   "source": [
    "#get your current working directory\n",
    "path = os.getcwd()\n",
    "print(path)"
   ]
  },
  {
   "cell_type": "markdown",
   "metadata": {},
   "source": [
    "### File Handling\n",
    "The key function for working with files in Python is the open() function.\n",
    "\n",
    "The **open()** function takes two parameters; filename, and mode.\n",
    "\n",
    "There are four different methods (modes) for opening a file:\n",
    "- \"r\" - Read - Default value. Opens a file for reading, error if the file does not exist\n",
    "- \"a\" - Append - Opens a file for appending, creates the file if it does not exist\n",
    "- \"w\" - Write - Opens a file for writing, creates the file if it does not exist\n",
    "- \"x\" - Create - Creates the specified file, returns an error if the file exists\n",
    "\n",
    "In addition you can specify if the file should be handled as binary or text mode\n",
    "- \"t\" - Text - Default value. Text mode\n",
    "- \"b\" - Binary - Binary mode (e.g. images)"
   ]
  },
  {
   "cell_type": "code",
   "execution_count": null,
   "metadata": {},
   "outputs": [],
   "source": [
    "f = open(\"demofile.txt\")\n",
    "f.close()"
   ]
  },
  {
   "cell_type": "markdown",
   "metadata": {},
   "source": [
    "is the same as "
   ]
  },
  {
   "cell_type": "code",
   "execution_count": null,
   "metadata": {},
   "outputs": [],
   "source": [
    "f = open(\"demofile.txt\", \"rt\")\n",
    "f.close()"
   ]
  },
  {
   "cell_type": "markdown",
   "metadata": {},
   "source": [
    "Because \"r\" for read, and \"t\" for text are the default values, you do not need to specify them.\n",
    "\n",
    "However we will not use open() alone we will use.."
   ]
  },
  {
   "cell_type": "code",
   "execution_count": null,
   "metadata": {},
   "outputs": [],
   "source": [
    "#example 1\n",
    "with open(\"demofile.txt\", r) as f:\n",
    "    lines = f.readlines()\n",
    "\n",
    "#example 2\n",
    "with open(\"demofile.txt\", r) as f:\n",
    "    fullFile = f.read()"
   ]
  },
  {
   "cell_type": "markdown",
   "metadata": {},
   "source": [
    " #### we use with because it automatically closes the file when we're done with it\n",
    " \n",
    "Once you get your file imported into the code there are many other methods that you can work with\n",
    "- read()\n",
    "- readlines()\n",
    "- strip()"
   ]
  },
  {
   "cell_type": "code",
   "execution_count": 4,
   "metadata": {
    "colab": {
     "base_uri": "https://localhost:8080/"
    },
    "executionInfo": {
     "elapsed": 1157,
     "status": "ok",
     "timestamp": 1687198584771,
     "user": {
      "displayName": "Anas X384569",
      "userId": "13931278578707862625"
     },
     "user_tz": 360
    },
    "id": "p2E4EKhCWEC5",
    "outputId": "5d9a8ead-3dd1-4499-c6e4-a84b997a1b6c"
   },
   "outputs": [
    {
     "data": {
      "text/plain": [
       "['Introduction:\\n',\n",
       " \"In today's increasingly digital world, learning programming has become more important than ever before. Programming is not only a valuable skill for computer scientists and software engineers but also holds relevance for individuals across various disciplines. From driving innovation to enhancing problem-solving abilities, the benefits of learning programming are numerous and far-reaching. This article aims to shed light on why learning programming is crucial in the modern era.\\n\",\n",
       " '\\n',\n",
       " 'Driving Technological Innovation:\\n',\n",
       " 'Programming is the backbone of technological innovation. It empowers individuals to create software, applications, and tools that shape our daily lives. By learning programming, individuals can actively contribute to the development of new technologies and drive innovation forward. From designing mobile apps that simplify everyday tasks to building complex algorithms for artificial intelligence, programming skills play a pivotal role in shaping the future of technology.\\n',\n",
       " '\\n',\n",
       " 'Enhancing Problem-Solving Skills:\\n',\n",
       " 'Programming is essentially about problem-solving. It requires breaking down complex problems into smaller, manageable tasks and developing logical solutions. By learning programming, individuals cultivate analytical thinking, logical reasoning, and the ability to approach challenges systematically. These problem-solving skills are transferable and valuable in various areas of life, such as academia, business, and personal decision-making.\\n',\n",
       " '\\n',\n",
       " 'Fostering Creativity:\\n',\n",
       " 'Programming offers a creative outlet that enables individuals to bring their ideas to life. It provides a platform for innovation and experimentation, where individuals can express their unique perspectives and create something meaningful. The process of programming encourages individuals to think outside the box, find creative solutions, and explore new possibilities. By nurturing creativity, programming empowers individuals to tackle problems in unconventional ways and contribute to diverse fields beyond computer science.\\n',\n",
       " '\\n',\n",
       " 'Expanding Career Opportunities:\\n',\n",
       " \"In today's job market, programming skills are highly sought after. Proficiency in programming opens up a wide range of career opportunities across industries. From software development to data analysis, web design to cybersecurity, programming skills are in demand across diverse sectors. Learning programming equips individuals with a versatile skill set that increases their employability and enables them to adapt to rapidly evolving job markets.\\n\",\n",
       " '\\n',\n",
       " 'Understanding the Digital World:\\n',\n",
       " 'In an era dominated by technology, understanding the digital world is essential. Learning programming provides individuals with insights into the underlying mechanics of software and applications that are pervasive in our lives. It allows individuals to grasp concepts such as algorithms, data structures, and computational thinking. This knowledge not only enables individuals to navigate digital platforms more effectively but also helps them make informed decisions regarding privacy, security, and digital literacy.\\n',\n",
       " '\\n',\n",
       " 'Empowering Entrepreneurship:\\n',\n",
       " 'Programming skills can be a catalyst for entrepreneurship. With the rise of digital startups and online businesses, the ability to create software solutions has become a crucial advantage. By learning programming, individuals can transform their ideas into functional prototypes, build minimum viable products (MVPs), and develop scalable platforms. Programming knowledge empowers aspiring entrepreneurs to turn their visions into reality, disrupt industries, and create innovative solutions to address real-world problems.\\n',\n",
       " '\\n',\n",
       " 'Conclusion:\\n',\n",
       " \"Learning programming is an investment in the future. It equips individuals with invaluable skills that extend beyond the realm of computer science. From driving technological innovation to enhancing problem-solving abilities, programming is a powerful tool that opens doors to new opportunities. By acquiring programming skills, individuals become active participants in shaping the digital world and making a positive impact on society. Whether it's pursuing a career in technology or applying programming principles to other domains, the importance of learning programming in today's world cannot be overstated.\"]"
      ]
     },
     "execution_count": 4,
     "metadata": {},
     "output_type": "execute_result"
    }
   ],
   "source": [
    "#import the .txt file\n",
    "# programmingImportance.txt\n",
    "with open(\"data/programmingImportance.txt\",'r') as myFile:\n",
    "    lines = myFile.readlines()\n",
    "lines"
   ]
  },
  {
   "cell_type": "code",
   "execution_count": 5,
   "metadata": {
    "colab": {
     "base_uri": "https://localhost:8080/"
    },
    "executionInfo": {
     "elapsed": 440,
     "status": "ok",
     "timestamp": 1687198585208,
     "user": {
      "displayName": "Anas X384569",
      "userId": "13931278578707862625"
     },
     "user_tz": 360
    },
    "id": "G7GVVA3IwvTS",
    "outputId": "b39b4f2e-241c-4c7e-fa83-6aab266cacab"
   },
   "outputs": [
    {
     "name": "stdout",
     "output_type": "stream",
     "text": [
      "Introduction:\n",
      "\n",
      "In today's increasingly digital world, learning programming has become more important than ever before. Programming is not only a valuable skill for computer scientists and software engineers but also holds relevance for individuals across various disciplines. From driving innovation to enhancing problem-solving abilities, the benefits of learning programming are numerous and far-reaching. This article aims to shed light on why learning programming is crucial in the modern era.\n",
      "\n",
      "\n",
      "\n",
      "Driving Technological Innovation:\n",
      "\n",
      "Programming is the backbone of technological innovation. It empowers individuals to create software, applications, and tools that shape our daily lives. By learning programming, individuals can actively contribute to the development of new technologies and drive innovation forward. From designing mobile apps that simplify everyday tasks to building complex algorithms for artificial intelligence, programming skills play a pivotal role in shaping the future of technology.\n",
      "\n",
      "\n",
      "\n",
      "Enhancing Problem-Solving Skills:\n",
      "\n",
      "Programming is essentially about problem-solving. It requires breaking down complex problems into smaller, manageable tasks and developing logical solutions. By learning programming, individuals cultivate analytical thinking, logical reasoning, and the ability to approach challenges systematically. These problem-solving skills are transferable and valuable in various areas of life, such as academia, business, and personal decision-making.\n",
      "\n",
      "\n",
      "\n",
      "Fostering Creativity:\n",
      "\n",
      "Programming offers a creative outlet that enables individuals to bring their ideas to life. It provides a platform for innovation and experimentation, where individuals can express their unique perspectives and create something meaningful. The process of programming encourages individuals to think outside the box, find creative solutions, and explore new possibilities. By nurturing creativity, programming empowers individuals to tackle problems in unconventional ways and contribute to diverse fields beyond computer science.\n",
      "\n",
      "\n",
      "\n",
      "Expanding Career Opportunities:\n",
      "\n",
      "In today's job market, programming skills are highly sought after. Proficiency in programming opens up a wide range of career opportunities across industries. From software development to data analysis, web design to cybersecurity, programming skills are in demand across diverse sectors. Learning programming equips individuals with a versatile skill set that increases their employability and enables them to adapt to rapidly evolving job markets.\n",
      "\n",
      "\n",
      "\n",
      "Understanding the Digital World:\n",
      "\n",
      "In an era dominated by technology, understanding the digital world is essential. Learning programming provides individuals with insights into the underlying mechanics of software and applications that are pervasive in our lives. It allows individuals to grasp concepts such as algorithms, data structures, and computational thinking. This knowledge not only enables individuals to navigate digital platforms more effectively but also helps them make informed decisions regarding privacy, security, and digital literacy.\n",
      "\n",
      "\n",
      "\n",
      "Empowering Entrepreneurship:\n",
      "\n",
      "Programming skills can be a catalyst for entrepreneurship. With the rise of digital startups and online businesses, the ability to create software solutions has become a crucial advantage. By learning programming, individuals can transform their ideas into functional prototypes, build minimum viable products (MVPs), and develop scalable platforms. Programming knowledge empowers aspiring entrepreneurs to turn their visions into reality, disrupt industries, and create innovative solutions to address real-world problems.\n",
      "\n",
      "\n",
      "\n",
      "Conclusion:\n",
      "\n",
      "Learning programming is an investment in the future. It equips individuals with invaluable skills that extend beyond the realm of computer science. From driving technological innovation to enhancing problem-solving abilities, programming is a powerful tool that opens doors to new opportunities. By acquiring programming skills, individuals become active participants in shaping the digital world and making a positive impact on society. Whether it's pursuing a career in technology or applying programming principles to other domains, the importance of learning programming in today's world cannot be overstated.\n"
     ]
    }
   ],
   "source": [
    "#print a line as the line is read\n",
    "with open(\"data/programmingImportance.txt\", 'r') as myFile:\n",
    "    lines = myFile.readlines()\n",
    "\n",
    "    for line in lines:\n",
    "        print(line)"
   ]
  },
  {
   "cell_type": "markdown",
   "metadata": {},
   "source": [
    "**.strip()**\n",
    "this removes any leading, and trailing whitespaces"
   ]
  },
  {
   "cell_type": "code",
   "execution_count": 6,
   "metadata": {},
   "outputs": [
    {
     "name": "stdout",
     "output_type": "stream",
     "text": [
      "      banana      \n"
     ]
    },
    {
     "data": {
      "text/plain": [
       "'banana'"
      ]
     },
     "execution_count": 6,
     "metadata": {},
     "output_type": "execute_result"
    }
   ],
   "source": [
    "#example make one with alot of white spaces\n",
    "txt = \"      banana      \"\n",
    "print(txt)\n",
    "clean_text = txt.strip()\n",
    "clean_text"
   ]
  },
  {
   "cell_type": "code",
   "execution_count": 7,
   "metadata": {
    "colab": {
     "base_uri": "https://localhost:8080/"
    },
    "executionInfo": {
     "elapsed": 29,
     "status": "ok",
     "timestamp": 1687198585437,
     "user": {
      "displayName": "Anas X384569",
      "userId": "13931278578707862625"
     },
     "user_tz": 360
    },
    "id": "Upt-lqdgzQW1",
    "outputId": "b910fa1a-c4af-4c9e-f6cd-e9bb00e6bc4a"
   },
   "outputs": [
    {
     "name": "stdout",
     "output_type": "stream",
     "text": [
      "Introduction:\n",
      "In today's increasingly digital world, learning programming has become more important than ever before. Programming is not only a valuable skill for computer scientists and software engineers but also holds relevance for individuals across various disciplines. From driving innovation to enhancing problem-solving abilities, the benefits of learning programming are numerous and far-reaching. This article aims to shed light on why learning programming is crucial in the modern era.\n",
      "\n",
      "Driving Technological Innovation:\n",
      "Programming is the backbone of technological innovation. It empowers individuals to create software, applications, and tools that shape our daily lives. By learning programming, individuals can actively contribute to the development of new technologies and drive innovation forward. From designing mobile apps that simplify everyday tasks to building complex algorithms for artificial intelligence, programming skills play a pivotal role in shaping the future of technology.\n",
      "\n",
      "Enhancing Problem-Solving Skills:\n",
      "Programming is essentially about problem-solving. It requires breaking down complex problems into smaller, manageable tasks and developing logical solutions. By learning programming, individuals cultivate analytical thinking, logical reasoning, and the ability to approach challenges systematically. These problem-solving skills are transferable and valuable in various areas of life, such as academia, business, and personal decision-making.\n",
      "\n",
      "Fostering Creativity:\n",
      "Programming offers a creative outlet that enables individuals to bring their ideas to life. It provides a platform for innovation and experimentation, where individuals can express their unique perspectives and create something meaningful. The process of programming encourages individuals to think outside the box, find creative solutions, and explore new possibilities. By nurturing creativity, programming empowers individuals to tackle problems in unconventional ways and contribute to diverse fields beyond computer science.\n",
      "\n",
      "Expanding Career Opportunities:\n",
      "In today's job market, programming skills are highly sought after. Proficiency in programming opens up a wide range of career opportunities across industries. From software development to data analysis, web design to cybersecurity, programming skills are in demand across diverse sectors. Learning programming equips individuals with a versatile skill set that increases their employability and enables them to adapt to rapidly evolving job markets.\n",
      "\n",
      "Understanding the Digital World:\n",
      "In an era dominated by technology, understanding the digital world is essential. Learning programming provides individuals with insights into the underlying mechanics of software and applications that are pervasive in our lives. It allows individuals to grasp concepts such as algorithms, data structures, and computational thinking. This knowledge not only enables individuals to navigate digital platforms more effectively but also helps them make informed decisions regarding privacy, security, and digital literacy.\n",
      "\n",
      "Empowering Entrepreneurship:\n",
      "Programming skills can be a catalyst for entrepreneurship. With the rise of digital startups and online businesses, the ability to create software solutions has become a crucial advantage. By learning programming, individuals can transform their ideas into functional prototypes, build minimum viable products (MVPs), and develop scalable platforms. Programming knowledge empowers aspiring entrepreneurs to turn their visions into reality, disrupt industries, and create innovative solutions to address real-world problems.\n",
      "\n",
      "Conclusion:\n",
      "Learning programming is an investment in the future. It equips individuals with invaluable skills that extend beyond the realm of computer science. From driving technological innovation to enhancing problem-solving abilities, programming is a powerful tool that opens doors to new opportunities. By acquiring programming skills, individuals become active participants in shaping the digital world and making a positive impact on society. Whether it's pursuing a career in technology or applying programming principles to other domains, the importance of learning programming in today's world cannot be overstated.\n"
     ]
    }
   ],
   "source": [
    "# strip the line as it is read for our file\n",
    "with open(\"data/programmingImportance.txt\", 'r') as myFile:\n",
    "    lines = myFile.readlines()\n",
    "    for line in lines:\n",
    "        clean_line = line.strip()\n",
    "        print(clean_line)"
   ]
  },
  {
   "cell_type": "code",
   "execution_count": 8,
   "metadata": {
    "colab": {
     "base_uri": "https://localhost:8080/"
    },
    "executionInfo": {
     "elapsed": 21,
     "status": "ok",
     "timestamp": 1687198585437,
     "user": {
      "displayName": "Anas X384569",
      "userId": "13931278578707862625"
     },
     "user_tz": 360
    },
    "id": "P-NO676hzbs6",
    "outputId": "92e6d90b-e0a7-457a-e00c-bef57a25fe76"
   },
   "outputs": [
    {
     "name": "stdout",
     "output_type": "stream",
     "text": [
      "Introduction:\n",
      "In today's increasingly digital world, learning programming has become more important than ever before. Programming is not only a valuable skill for computer scientists and software engineers but also holds relevance for individuals across various disciplines. From driving innovation to enhancing problem-solving abilities, the benefits of learning programming are numerous and far-reaching. This article aims to shed light on why learning programming is crucial in the modern era.\n",
      "\n",
      "Driving Technological Innovation:\n",
      "Programming is the backbone of technological innovation. It empowers individuals to create software, applications, and tools that shape our daily lives. By learning programming, individuals can actively contribute to the development of new technologies and drive innovation forward. From designing mobile apps that simplify everyday tasks to building complex algorithms for artificial intelligence, programming skills play a pivotal role in shaping the future of technology.\n",
      "\n",
      "Enhancing Problem-Solving Skills:\n",
      "Programming is essentially about problem-solving. It requires breaking down complex problems into smaller, manageable tasks and developing logical solutions. By learning programming, individuals cultivate analytical thinking, logical reasoning, and the ability to approach challenges systematically. These problem-solving skills are transferable and valuable in various areas of life, such as academia, business, and personal decision-making.\n",
      "\n",
      "Fostering Creativity:\n",
      "Programming offers a creative outlet that enables individuals to bring their ideas to life. It provides a platform for innovation and experimentation, where individuals can express their unique perspectives and create something meaningful. The process of programming encourages individuals to think outside the box, find creative solutions, and explore new possibilities. By nurturing creativity, programming empowers individuals to tackle problems in unconventional ways and contribute to diverse fields beyond computer science.\n",
      "\n",
      "Expanding Career Opportunities:\n",
      "In today's job market, programming skills are highly sought after. Proficiency in programming opens up a wide range of career opportunities across industries. From software development to data analysis, web design to cybersecurity, programming skills are in demand across diverse sectors. Learning programming equips individuals with a versatile skill set that increases their employability and enables them to adapt to rapidly evolving job markets.\n",
      "\n",
      "Understanding the Digital World:\n",
      "In an era dominated by technology, understanding the digital world is essential. Learning programming provides individuals with insights into the underlying mechanics of software and applications that are pervasive in our lives. It allows individuals to grasp concepts such as algorithms, data structures, and computational thinking. This knowledge not only enables individuals to navigate digital platforms more effectively but also helps them make informed decisions regarding privacy, security, and digital literacy.\n",
      "\n",
      "Empowering Entrepreneurship:\n",
      "Programming skills can be a catalyst for entrepreneurship. With the rise of digital startups and online businesses, the ability to create software solutions has become a crucial advantage. By learning programming, individuals can transform their ideas into functional prototypes, build minimum viable products (MVPs), and develop scalable platforms. Programming knowledge empowers aspiring entrepreneurs to turn their visions into reality, disrupt industries, and create innovative solutions to address real-world problems.\n",
      "\n",
      "Conclusion:\n",
      "Learning programming is an investment in the future. It equips individuals with invaluable skills that extend beyond the realm of computer science. From driving technological innovation to enhancing problem-solving abilities, programming is a powerful tool that opens doors to new opportunities. By acquiring programming skills, individuals become active participants in shaping the digital world and making a positive impact on society. Whether it's pursuing a career in technology or applying programming principles to other domains, the importance of learning programming in today's world cannot be overstated.\n"
     ]
    }
   ],
   "source": [
    "# strip each line with a for loop\n",
    "with open(\"data/programmingImportance.txt\", 'r', encoding = 'utf8') as f:\n",
    "    lines = f.readlines()\n",
    "\n",
    "    for line in lines:\n",
    "        clean_line = line.strip()\n",
    "        print(clean_line)"
   ]
  },
  {
   "cell_type": "code",
   "execution_count": 13,
   "metadata": {
    "executionInfo": {
     "elapsed": 7,
     "status": "ok",
     "timestamp": 1687198585438,
     "user": {
      "displayName": "Anas X384569",
      "userId": "13931278578707862625"
     },
     "user_tz": 360
    },
    "id": "dNVL1iQszs_h"
   },
   "outputs": [
    {
     "data": {
      "text/plain": [
       "\"Introduction:\\nIn today's increasingly digital world, learning programming has become more important than ever before. Programming is not only a valuable skill for computer scientists and software engineers but also holds relevance for individuals across various disciplines. From driving innovation to enhancing problem-solving abilities, the benefits of learning programming are numerous and far-reaching. This article aims to shed light on why learning programming is crucial in the modern era.\\n\\nDriving Technological Innovation:\\nProgramming is the backbone of technological innovation. It empowers individuals to create software, applications, and tools that shape our daily lives. By learning programming, individuals can actively contribute to the development of new technologies and drive innovation forward. From designing mobile apps that simplify everyday tasks to building complex algorithms for artificial intelligence, programming skills play a pivotal role in shaping the future of technology.\\n\\nEnhancing Problem-Solving Skills:\\nProgramming is essentially about problem-solving. It requires breaking down complex problems into smaller, manageable tasks and developing logical solutions. By learning programming, individuals cultivate analytical thinking, logical reasoning, and the ability to approach challenges systematically. These problem-solving skills are transferable and valuable in various areas of life, such as academia, business, and personal decision-making.\\n\\nFostering Creativity:\\nProgramming offers a creative outlet that enables individuals to bring their ideas to life. It provides a platform for innovation and experimentation, where individuals can express their unique perspectives and create something meaningful. The process of programming encourages individuals to think outside the box, find creative solutions, and explore new possibilities. By nurturing creativity, programming empowers individuals to tackle problems in unconventional ways and contribute to diverse fields beyond computer science.\\n\\nExpanding Career Opportunities:\\nIn today's job market, programming skills are highly sought after. Proficiency in programming opens up a wide range of career opportunities across industries. From software development to data analysis, web design to cybersecurity, programming skills are in demand across diverse sectors. Learning programming equips individuals with a versatile skill set that increases their employability and enables them to adapt to rapidly evolving job markets.\\n\\nUnderstanding the Digital World:\\nIn an era dominated by technology, understanding the digital world is essential. Learning programming provides individuals with insights into the underlying mechanics of software and applications that are pervasive in our lives. It allows individuals to grasp concepts such as algorithms, data structures, and computational thinking. This knowledge not only enables individuals to navigate digital platforms more effectively but also helps them make informed decisions regarding privacy, security, and digital literacy.\\n\\nEmpowering Entrepreneurship:\\nProgramming skills can be a catalyst for entrepreneurship. With the rise of digital startups and online businesses, the ability to create software solutions has become a crucial advantage. By learning programming, individuals can transform their ideas into functional prototypes, build minimum viable products (MVPs), and develop scalable platforms. Programming knowledge empowers aspiring entrepreneurs to turn their visions into reality, disrupt industries, and create innovative solutions to address real-world problems.\\n\\nConclusion:\\nLearning programming is an investment in the future. It equips individuals with invaluable skills that extend beyond the realm of computer science. From driving technological innovation to enhancing problem-solving abilities, programming is a powerful tool that opens doors to new opportunities. By acquiring programming skills, individuals become active participants in shaping the digital world and making a positive impact on society. Whether it's pursuing a career in technology or applying programming principles to other domains, the importance of learning programming in today's world cannot be overstated.\""
      ]
     },
     "execution_count": 13,
     "metadata": {},
     "output_type": "execute_result"
    }
   ],
   "source": [
    "#assign the content in the file to a variable\n",
    "with open(\"data/programmingImportance.txt\", 'r', encoding = 'utf8') as myFile:\n",
    "    myString = myFile.read()\n",
    "myString"
   ]
  },
  {
   "cell_type": "markdown",
   "metadata": {},
   "source": []
  },
  {
   "cell_type": "markdown",
   "metadata": {},
   "source": [
    "### Exercise 1: \n",
    "import yoga.txt and find out which word is said the most"
   ]
  },
  {
   "cell_type": "code",
   "execution_count": 19,
   "metadata": {},
   "outputs": [
    {
     "name": "stdout",
     "output_type": "stream",
     "text": [
      "the\n"
     ]
    }
   ],
   "source": [
    "with open(\"data/yoga.txt\",'r',encoding='utf8') as myFile:\n",
    "    # we are looking for something so its best to use .read() to look at all content\n",
    "    yoga = myFile.read()\n",
    "yoga\n",
    "yoga.split(' ')\n",
    "\n",
    "# make dictionary\n",
    "wordQuant = {}\n",
    "# iterate thru list of words\n",
    "for word in yoga.split(' '):\n",
    "    if word in wordQuant.keys():\n",
    "        wordQuant[word] += 1\n",
    "    else:\n",
    "        wordQuant[word] = 1\n",
    "wordQuant\n",
    "\n",
    "wordQuant.pop('')\n",
    "wordQuant.pop('\\n')\n",
    "max(wordQuant.values())\n",
    "for word, freq in wordQuant.items():\n",
    "    # if freq == 18:\n",
    "    if freq == max(wordQuant.values()):\n",
    "        print(word)"
   ]
  },
  {
   "cell_type": "code",
   "execution_count": null,
   "metadata": {},
   "outputs": [],
   "source": [
    "\n",
    "# get all the instances of the word \"restaurant\"\n",
    "\n",
    "re.findall(\"restaurant\", myString)"
   ]
  },
  {
   "cell_type": "markdown",
   "metadata": {
    "id": "IAIOyOXe1Uq2"
   },
   "source": [
    "### Regular Expressions (re)\n",
    "This is another package that allows you to navigate, and edit things such as strings. There are some key methods that we should know\n",
    "- find()\n",
    "- findall(): returns a list of all the matches of the pattern we specified found in the source\n",
    "- replace()"
   ]
  },
  {
   "cell_type": "code",
   "execution_count": 18,
   "metadata": {
    "executionInfo": {
     "elapsed": 8,
     "status": "ok",
     "timestamp": 1687198586018,
     "user": {
      "displayName": "Anas X384569",
      "userId": "13931278578707862625"
     },
     "user_tz": 360
    },
    "id": "k4z8QO0o1Yvz"
   },
   "outputs": [],
   "source": [
    "#import the regular expressions package\n",
    "import re\n"
   ]
  },
  {
   "cell_type": "code",
   "execution_count": 22,
   "metadata": {},
   "outputs": [
    {
     "ename": "FileNotFoundError",
     "evalue": "[Errno 2] No such file or directory: 'nyt_restaurantRevolution.txt'",
     "output_type": "error",
     "traceback": [
      "\u001b[0;31m---------------------------------------------------------------------------\u001b[0m",
      "\u001b[0;31mFileNotFoundError\u001b[0m                         Traceback (most recent call last)",
      "Cell \u001b[0;32mIn[22], line 2\u001b[0m\n\u001b[1;32m      1\u001b[0m \u001b[38;5;66;03m# import nyt_restaurantRevolution.txt to a string\u001b[39;00m\n\u001b[0;32m----> 2\u001b[0m \u001b[38;5;28;01mwith\u001b[39;00m \u001b[38;5;28mopen\u001b[39m(\u001b[38;5;124m\"\u001b[39m\u001b[38;5;124mnyt_restaurantRevolution.txt\u001b[39m\u001b[38;5;124m\"\u001b[39m, \u001b[38;5;124m'\u001b[39m\u001b[38;5;124mr\u001b[39m\u001b[38;5;124m'\u001b[39m, encoding \u001b[38;5;241m=\u001b[39m \u001b[38;5;124m'\u001b[39m\u001b[38;5;124mutf8\u001b[39m\u001b[38;5;124m'\u001b[39m) \u001b[38;5;28;01mas\u001b[39;00m f:\n\u001b[1;32m      3\u001b[0m     \u001b[38;5;66;03m# print(f.read())\u001b[39;00m\n\u001b[1;32m      5\u001b[0m     myString \u001b[38;5;241m=\u001b[39m f\u001b[38;5;241m.\u001b[39mread()\n\u001b[1;32m      7\u001b[0m myString\n",
      "File \u001b[0;32m~/Desktop/anaconda3/lib/python3.12/site-packages/IPython/core/interactiveshell.py:324\u001b[0m, in \u001b[0;36m_modified_open\u001b[0;34m(file, *args, **kwargs)\u001b[0m\n\u001b[1;32m    317\u001b[0m \u001b[38;5;28;01mif\u001b[39;00m file \u001b[38;5;129;01min\u001b[39;00m {\u001b[38;5;241m0\u001b[39m, \u001b[38;5;241m1\u001b[39m, \u001b[38;5;241m2\u001b[39m}:\n\u001b[1;32m    318\u001b[0m     \u001b[38;5;28;01mraise\u001b[39;00m \u001b[38;5;167;01mValueError\u001b[39;00m(\n\u001b[1;32m    319\u001b[0m         \u001b[38;5;124mf\u001b[39m\u001b[38;5;124m\"\u001b[39m\u001b[38;5;124mIPython won\u001b[39m\u001b[38;5;124m'\u001b[39m\u001b[38;5;124mt let you open fd=\u001b[39m\u001b[38;5;132;01m{\u001b[39;00mfile\u001b[38;5;132;01m}\u001b[39;00m\u001b[38;5;124m by default \u001b[39m\u001b[38;5;124m\"\u001b[39m\n\u001b[1;32m    320\u001b[0m         \u001b[38;5;124m\"\u001b[39m\u001b[38;5;124mas it is likely to crash IPython. If you know what you are doing, \u001b[39m\u001b[38;5;124m\"\u001b[39m\n\u001b[1;32m    321\u001b[0m         \u001b[38;5;124m\"\u001b[39m\u001b[38;5;124myou can use builtins\u001b[39m\u001b[38;5;124m'\u001b[39m\u001b[38;5;124m open.\u001b[39m\u001b[38;5;124m\"\u001b[39m\n\u001b[1;32m    322\u001b[0m     )\n\u001b[0;32m--> 324\u001b[0m \u001b[38;5;28;01mreturn\u001b[39;00m io_open(file, \u001b[38;5;241m*\u001b[39margs, \u001b[38;5;241m*\u001b[39m\u001b[38;5;241m*\u001b[39mkwargs)\n",
      "\u001b[0;31mFileNotFoundError\u001b[0m: [Errno 2] No such file or directory: 'nyt_restaurantRevolution.txt'"
     ]
    }
   ],
   "source": [
    "# import nyt_restaurantRevolution.txt to a string\n",
    "with open(\"nyt_restaurantRevolution.txt\", 'r', encoding = 'utf8') as f:\n",
    "    # print(f.read())\n",
    "\n",
    "    myString = f.read()\n",
    "\n",
    "myString"
   ]
  },
  {
   "cell_type": "code",
   "execution_count": null,
   "metadata": {},
   "outputs": [],
   "source": []
  },
  {
   "cell_type": "code",
   "execution_count": 9,
   "metadata": {
    "colab": {
     "base_uri": "https://localhost:8080/"
    },
    "executionInfo": {
     "elapsed": 7,
     "status": "ok",
     "timestamp": 1687198586019,
     "user": {
      "displayName": "Anas X384569",
      "userId": "13931278578707862625"
     },
     "user_tz": 360
    },
    "id": "pN7QQKxL13UJ",
    "outputId": "6d4e2167-df83-429d-cc63-cc01177bc399"
   },
   "outputs": [],
   "source": [
    "# get all the instances of the word \"programming\"\n"
   ]
  },
  {
   "cell_type": "code",
   "execution_count": 10,
   "metadata": {},
   "outputs": [],
   "source": [
    "#what type is the resulting findall() method"
   ]
  },
  {
   "cell_type": "code",
   "execution_count": 11,
   "metadata": {},
   "outputs": [],
   "source": [
    "#find the number of instances of the word 'computer'\n"
   ]
  },
  {
   "cell_type": "markdown",
   "metadata": {},
   "source": [
    "#### wildcards / regex symbols\n",
    "* \\d : any digit\n",
    "* \\s : any whitespace character\n",
    "* \\S : any non-whitespace character\n",
    "* \\w : any alphanumeric character (a-z, A-Z, 0-9, _)\n",
    "* \\W : any non-alphanumeric character\n",
    "* \\t : tab characters\n",
    "* \\n : newline\n",
    "* . : any character except the newline character"
   ]
  },
  {
   "cell_type": "code",
   "execution_count": 12,
   "metadata": {
    "colab": {
     "base_uri": "https://localhost:8080/"
    },
    "executionInfo": {
     "elapsed": 4,
     "status": "ok",
     "timestamp": 1687198586137,
     "user": {
      "displayName": "Anas X384569",
      "userId": "13931278578707862625"
     },
     "user_tz": 360
    },
    "id": "f9JZcdYw2IYM",
    "outputId": "fb13b405-a071-4bc9-9c05-3a255c6b0675"
   },
   "outputs": [],
   "source": [
    "#find all the numbers in the .txt file\n"
   ]
  },
  {
   "cell_type": "code",
   "execution_count": 13,
   "metadata": {
    "colab": {
     "base_uri": "https://localhost:8080/"
    },
    "executionInfo": {
     "elapsed": 167,
     "status": "ok",
     "timestamp": 1687198586457,
     "user": {
      "displayName": "Anas X384569",
      "userId": "13931278578707862625"
     },
     "user_tz": 360
    },
    "id": "yE-3Wja02Q4Y",
    "outputId": "ce4d7317-fe09-43fc-a67c-5432faf713a3"
   },
   "outputs": [],
   "source": [
    "#find all of the WORDS ONLY \n"
   ]
  },
  {
   "cell_type": "code",
   "execution_count": 14,
   "metadata": {
    "colab": {
     "base_uri": "https://localhost:8080/"
    },
    "executionInfo": {
     "elapsed": 10,
     "status": "ok",
     "timestamp": 1687198586617,
     "user": {
      "displayName": "Anas X384569",
      "userId": "13931278578707862625"
     },
     "user_tz": 360
    },
    "id": "YcLccBM62R4P",
    "outputId": "81966bbc-ae98-4bf7-9fc8-a3af67fcd4a9"
   },
   "outputs": [],
   "source": [
    "# how many words are there?\n"
   ]
  },
  {
   "cell_type": "code",
   "execution_count": 15,
   "metadata": {
    "colab": {
     "base_uri": "https://localhost:8080/"
    },
    "executionInfo": {
     "elapsed": 4,
     "status": "ok",
     "timestamp": 1687198586897,
     "user": {
      "displayName": "Anas X384569",
      "userId": "13931278578707862625"
     },
     "user_tz": 360
    },
    "id": "3OMayYvh2YUG",
    "outputId": "34bf8131-2142-4e46-d95b-c2ab5a9762a2"
   },
   "outputs": [],
   "source": [
    "# let's find all the numeric representations of dollar amounts in the story\n",
    "# $ means something in regex so we need to escape it if we're just looking for the $ character"
   ]
  },
  {
   "cell_type": "code",
   "execution_count": 16,
   "metadata": {
    "colab": {
     "base_uri": "https://localhost:8080/"
    },
    "executionInfo": {
     "elapsed": 7,
     "status": "ok",
     "timestamp": 1687198587201,
     "user": {
      "displayName": "Anas X384569",
      "userId": "13931278578707862625"
     },
     "user_tz": 360
    },
    "id": "NvIjPSfK2ity",
    "outputId": "db11ad94-fa29-4a99-e3da-347f41719cda"
   },
   "outputs": [],
   "source": [
    "# let's match the dollar amounts along with the word following those amounts\n"
   ]
  },
  {
   "cell_type": "code",
   "execution_count": 17,
   "metadata": {
    "colab": {
     "base_uri": "https://localhost:8080/"
    },
    "executionInfo": {
     "elapsed": 5,
     "status": "ok",
     "timestamp": 1687198587366,
     "user": {
      "displayName": "Anas X384569",
      "userId": "13931278578707862625"
     },
     "user_tz": 360
    },
    "id": "9ERkYeLS2lob",
    "outputId": "22d5aca4-58a9-4467-8622-76b3bc6267d0"
   },
   "outputs": [],
   "source": [
    "# we're still not matching decimal numbers, so let's do that\n",
    "# \\S matches any non-whitespace character"
   ]
  },
  {
   "cell_type": "code",
   "execution_count": 18,
   "metadata": {
    "colab": {
     "base_uri": "https://localhost:8080/"
    },
    "executionInfo": {
     "elapsed": 13,
     "status": "ok",
     "timestamp": 1687198587696,
     "user": {
      "displayName": "Anas X384569",
      "userId": "13931278578707862625"
     },
     "user_tz": 360
    },
    "id": "y8rIXCXu2pBp",
    "outputId": "6b60307e-3762-497b-dd26-61cd2c9a4785"
   },
   "outputs": [],
   "source": [
    "# if you only wanted to match million,"
   ]
  },
  {
   "cell_type": "code",
   "execution_count": 19,
   "metadata": {
    "colab": {
     "base_uri": "https://localhost:8080/"
    },
    "executionInfo": {
     "elapsed": 5,
     "status": "ok",
     "timestamp": 1687198587963,
     "user": {
      "displayName": "Anas X384569",
      "userId": "13931278578707862625"
     },
     "user_tz": 360
    },
    "id": "rLaNj3t92rTq",
    "outputId": "9c3a5d9f-2c46-4c68-e0d2-bcb5d20c8e0e"
   },
   "outputs": [],
   "source": [
    "# what if we want to find all words that start with a vowel?\n",
    "# square brackets in regex does or"
   ]
  },
  {
   "cell_type": "code",
   "execution_count": 20,
   "metadata": {
    "colab": {
     "base_uri": "https://localhost:8080/"
    },
    "executionInfo": {
     "elapsed": 5,
     "status": "ok",
     "timestamp": 1687198588075,
     "user": {
      "displayName": "Anas X384569",
      "userId": "13931278578707862625"
     },
     "user_tz": 360
    },
    "id": "Eci3Kh9F2tsG",
    "outputId": "407bef96-afdd-4069-cb7b-cef3d5260a8b"
   },
   "outputs": [],
   "source": [
    "# we need a way to say \"beginning of a word\"\n",
    "# \\\\b is the symbol for \"word boundary\""
   ]
  },
  {
   "cell_type": "code",
   "execution_count": 21,
   "metadata": {
    "colab": {
     "base_uri": "https://localhost:8080/"
    },
    "executionInfo": {
     "elapsed": 128,
     "status": "ok",
     "timestamp": 1687198588642,
     "user": {
      "displayName": "Anas X384569",
      "userId": "13931278578707862625"
     },
     "user_tz": 360
    },
    "id": "-hKXRCkT2xLT",
    "outputId": "a55ad3e6-ce5c-48c2-a48d-794482b38808"
   },
   "outputs": [],
   "source": [
    "# with [] you can also do ranges\n",
    "# \\\\b works at the beginning and end of a word"
   ]
  },
  {
   "cell_type": "code",
   "execution_count": 22,
   "metadata": {
    "colab": {
     "base_uri": "https://localhost:8080/"
    },
    "executionInfo": {
     "elapsed": 4,
     "status": "ok",
     "timestamp": 1687198589243,
     "user": {
      "displayName": "Anas X384569",
      "userId": "13931278578707862625"
     },
     "user_tz": 360
    },
    "id": "FsVCGy_z20ed",
    "outputId": "b3a355f7-62c1-4469-b20d-b94bf78de8fb"
   },
   "outputs": [],
   "source": [
    "# what about any digits from 2-4 digits in length?\n"
   ]
  },
  {
   "cell_type": "code",
   "execution_count": 23,
   "metadata": {
    "colab": {
     "base_uri": "https://localhost:8080/"
    },
    "executionInfo": {
     "elapsed": 126,
     "status": "ok",
     "timestamp": 1687198589486,
     "user": {
      "displayName": "Anas X384569",
      "userId": "13931278578707862625"
     },
     "user_tz": 360
    },
    "id": "p-HbGeV823HJ",
    "outputId": "67880ca5-14fa-4fa3-9f96-1f81dbeecd05"
   },
   "outputs": [],
   "source": [
    "# you can even use this syntax to set a lower limit but no upper limit\n"
   ]
  },
  {
   "cell_type": "code",
   "execution_count": 24,
   "metadata": {
    "colab": {
     "base_uri": "https://localhost:8080/"
    },
    "executionInfo": {
     "elapsed": 137,
     "status": "ok",
     "timestamp": 1687198589919,
     "user": {
      "displayName": "Anas X384569",
      "userId": "13931278578707862625"
     },
     "user_tz": 360
    },
    "id": "0n5r18nZ26AO",
    "outputId": "3690f302-f81e-4967-afd5-5c471ce3734a"
   },
   "outputs": [],
   "source": [
    "# find the word guitar and the word preceding it and the word following it\n"
   ]
  },
  {
   "cell_type": "code",
   "execution_count": 68,
   "metadata": {
    "executionInfo": {
     "elapsed": 5,
     "status": "ok",
     "timestamp": 1687198590211,
     "user": {
      "displayName": "Anas X384569",
      "userId": "13931278578707862625"
     },
     "user_tz": 360
    },
    "id": "6ii9HIf132J1"
   },
   "outputs": [],
   "source": []
  },
  {
   "cell_type": "markdown",
   "metadata": {},
   "source": [
    "### Metacharacters\n",
    "Metacharacters are characters with a special meaning:"
   ]
  },
  {
   "cell_type": "code",
   "execution_count": null,
   "metadata": {},
   "outputs": [],
   "source": [
    "# open the sorcerers-stone.txt file"
   ]
  },
  {
   "cell_type": "code",
   "execution_count": null,
   "metadata": {},
   "outputs": [],
   "source": [
    "# clean your code and stip the new lines and the spaces"
   ]
  },
  {
   "cell_type": "code",
   "execution_count": null,
   "metadata": {},
   "outputs": [],
   "source": [
    "# find all the times \"witch is said\""
   ]
  },
  {
   "cell_type": "code",
   "execution_count": null,
   "metadata": {},
   "outputs": [],
   "source": [
    "# find what words come after \"Harry\""
   ]
  },
  {
   "cell_type": "code",
   "execution_count": null,
   "metadata": {},
   "outputs": [],
   "source": [
    "# find how many times magic appears (upper and lowercase)"
   ]
  },
  {
   "cell_type": "code",
   "execution_count": null,
   "metadata": {},
   "outputs": [],
   "source": [
    "# find all the words that start with a vowel"
   ]
  },
  {
   "cell_type": "code",
   "execution_count": null,
   "metadata": {},
   "outputs": [],
   "source": [
    "# find every word that ends in \"ing\""
   ]
  },
  {
   "cell_type": "code",
   "execution_count": null,
   "metadata": {},
   "outputs": [],
   "source": []
  },
  {
   "cell_type": "markdown",
   "metadata": {},
   "source": []
  }
 ],
 "metadata": {
  "colab": {
   "authorship_tag": "ABX9TyMqQgmkR7UmKkFEVAQgS5Ye",
   "provenance": []
  },
  "kernelspec": {
   "display_name": "Python 3 (ipykernel)",
   "language": "python",
   "name": "python3"
  },
  "language_info": {
   "codemirror_mode": {
    "name": "ipython",
    "version": 3
   },
   "file_extension": ".py",
   "mimetype": "text/x-python",
   "name": "python",
   "nbconvert_exporter": "python",
   "pygments_lexer": "ipython3",
   "version": "3.12.7"
  }
 },
 "nbformat": 4,
 "nbformat_minor": 4
}
